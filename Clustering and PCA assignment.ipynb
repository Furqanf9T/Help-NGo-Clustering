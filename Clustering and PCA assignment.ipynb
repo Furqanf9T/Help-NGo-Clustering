{
 "cells": [
  {
   "cell_type": "markdown",
   "metadata": {},
   "source": [
    "# Clustering Analysis for HELP International NGO"
   ]
  },
  {
   "cell_type": "markdown",
   "metadata": {},
   "source": [
    "# Problem Statement\n",
    "HELP International is an international humanitarian NGO that is committed to fighting poverty and providing the people of backward countries with basic amenities and relief during the time of disasters and natural calamities. It runs a lot of operational projects from time to time along with advocacy drives to raise awareness as well as for funding purposes.\n",
    "After the recent funding programmes, they have been able to raise around $ 10 million. Now the CEO of the NGO needs to decide how to use this money strategically and effectively. The significant issues that come while making this decision are mostly related to choosing the countries that are in the direst need of aid.\n",
    "Our job is to categorise the countries using some socio-economic and health factors that determine the overall development of the country. Then we need to suggest the countries which the CEO needs to focus on the most. The datasets containing those socio-economic factors and the corresponding data dictionary are provided."
   ]
  },
  {
   "cell_type": "code",
   "execution_count": null,
   "metadata": {},
   "outputs": [],
   "source": [
    "#Importing all the packages\n",
    "import numpy as np\n",
    "import pandas as pd\n",
    "import matplotlib.pyplot as plt\n",
    "import seaborn as sns\n",
    "\n",
    "import datetime as dt\n",
    "\n",
    "import sklearn\n",
    "from sklearn.preprocessing import StandardScaler\n",
    "from sklearn.cluster import KMeans\n",
    "from sklearn.metrics import silhouette_score\n",
    "\n",
    "from scipy.cluster.hierarchy import linkage\n",
    "from scipy.cluster.hierarchy import dendrogram\n",
    "from scipy.cluster.hierarchy import cut_tree"
   ]
  },
  {
   "cell_type": "code",
   "execution_count": 2,
   "metadata": {},
   "outputs": [],
   "source": [
    "df=pd.read_csv('Country-data.csv')"
   ]
  },
  {
   "cell_type": "code",
   "execution_count": 3,
   "metadata": {},
   "outputs": [
    {
     "data": {
      "text/html": [
       "<div>\n",
       "<style scoped>\n",
       "    .dataframe tbody tr th:only-of-type {\n",
       "        vertical-align: middle;\n",
       "    }\n",
       "\n",
       "    .dataframe tbody tr th {\n",
       "        vertical-align: top;\n",
       "    }\n",
       "\n",
       "    .dataframe thead th {\n",
       "        text-align: right;\n",
       "    }\n",
       "</style>\n",
       "<table border=\"1\" class=\"dataframe\">\n",
       "  <thead>\n",
       "    <tr style=\"text-align: right;\">\n",
       "      <th></th>\n",
       "      <th>country</th>\n",
       "      <th>child_mort</th>\n",
       "      <th>exports</th>\n",
       "      <th>health</th>\n",
       "      <th>imports</th>\n",
       "      <th>income</th>\n",
       "      <th>inflation</th>\n",
       "      <th>life_expec</th>\n",
       "      <th>total_fer</th>\n",
       "      <th>gdpp</th>\n",
       "    </tr>\n",
       "  </thead>\n",
       "  <tbody>\n",
       "    <tr>\n",
       "      <th>0</th>\n",
       "      <td>Afghanistan</td>\n",
       "      <td>90.2</td>\n",
       "      <td>10.0</td>\n",
       "      <td>7.58</td>\n",
       "      <td>44.9</td>\n",
       "      <td>1610</td>\n",
       "      <td>9.44</td>\n",
       "      <td>56.2</td>\n",
       "      <td>5.82</td>\n",
       "      <td>553</td>\n",
       "    </tr>\n",
       "    <tr>\n",
       "      <th>1</th>\n",
       "      <td>Albania</td>\n",
       "      <td>16.6</td>\n",
       "      <td>28.0</td>\n",
       "      <td>6.55</td>\n",
       "      <td>48.6</td>\n",
       "      <td>9930</td>\n",
       "      <td>4.49</td>\n",
       "      <td>76.3</td>\n",
       "      <td>1.65</td>\n",
       "      <td>4090</td>\n",
       "    </tr>\n",
       "    <tr>\n",
       "      <th>2</th>\n",
       "      <td>Algeria</td>\n",
       "      <td>27.3</td>\n",
       "      <td>38.4</td>\n",
       "      <td>4.17</td>\n",
       "      <td>31.4</td>\n",
       "      <td>12900</td>\n",
       "      <td>16.10</td>\n",
       "      <td>76.5</td>\n",
       "      <td>2.89</td>\n",
       "      <td>4460</td>\n",
       "    </tr>\n",
       "    <tr>\n",
       "      <th>3</th>\n",
       "      <td>Angola</td>\n",
       "      <td>119.0</td>\n",
       "      <td>62.3</td>\n",
       "      <td>2.85</td>\n",
       "      <td>42.9</td>\n",
       "      <td>5900</td>\n",
       "      <td>22.40</td>\n",
       "      <td>60.1</td>\n",
       "      <td>6.16</td>\n",
       "      <td>3530</td>\n",
       "    </tr>\n",
       "    <tr>\n",
       "      <th>4</th>\n",
       "      <td>Antigua and Barbuda</td>\n",
       "      <td>10.3</td>\n",
       "      <td>45.5</td>\n",
       "      <td>6.03</td>\n",
       "      <td>58.9</td>\n",
       "      <td>19100</td>\n",
       "      <td>1.44</td>\n",
       "      <td>76.8</td>\n",
       "      <td>2.13</td>\n",
       "      <td>12200</td>\n",
       "    </tr>\n",
       "  </tbody>\n",
       "</table>\n",
       "</div>"
      ],
      "text/plain": [
       "               country  child_mort  exports  health  imports  income  \\\n",
       "0          Afghanistan        90.2     10.0    7.58     44.9    1610   \n",
       "1              Albania        16.6     28.0    6.55     48.6    9930   \n",
       "2              Algeria        27.3     38.4    4.17     31.4   12900   \n",
       "3               Angola       119.0     62.3    2.85     42.9    5900   \n",
       "4  Antigua and Barbuda        10.3     45.5    6.03     58.9   19100   \n",
       "\n",
       "   inflation  life_expec  total_fer   gdpp  \n",
       "0       9.44        56.2       5.82    553  \n",
       "1       4.49        76.3       1.65   4090  \n",
       "2      16.10        76.5       2.89   4460  \n",
       "3      22.40        60.1       6.16   3530  \n",
       "4       1.44        76.8       2.13  12200  "
      ]
     },
     "execution_count": 3,
     "metadata": {},
     "output_type": "execute_result"
    }
   ],
   "source": [
    "df.head()"
   ]
  },
  {
   "cell_type": "code",
   "execution_count": 4,
   "metadata": {},
   "outputs": [],
   "source": [
    "#Converting the data from percentage to numerical form\n",
    "df['exports'] = df['exports']*df['gdpp']/100\n",
    "df['imports'] = df['imports']*df['gdpp']/100\n",
    "df['health'] = df['health']*df['gdpp']/100"
   ]
  },
  {
   "cell_type": "code",
   "execution_count": 5,
   "metadata": {},
   "outputs": [
    {
     "data": {
      "text/plain": [
       "country       0\n",
       "child_mort    0\n",
       "exports       0\n",
       "health        0\n",
       "imports       0\n",
       "income        0\n",
       "inflation     0\n",
       "life_expec    0\n",
       "total_fer     0\n",
       "gdpp          0\n",
       "dtype: int64"
      ]
     },
     "execution_count": 5,
     "metadata": {},
     "output_type": "execute_result"
    }
   ],
   "source": [
    "#Checking for missing values\n",
    "df.isnull().sum()"
   ]
  },
  {
   "cell_type": "code",
   "execution_count": 6,
   "metadata": {},
   "outputs": [
    {
     "name": "stdout",
     "output_type": "stream",
     "text": [
      "<class 'pandas.core.frame.DataFrame'>\n",
      "RangeIndex: 167 entries, 0 to 166\n",
      "Data columns (total 10 columns):\n",
      "country       167 non-null object\n",
      "child_mort    167 non-null float64\n",
      "exports       167 non-null float64\n",
      "health        167 non-null float64\n",
      "imports       167 non-null float64\n",
      "income        167 non-null int64\n",
      "inflation     167 non-null float64\n",
      "life_expec    167 non-null float64\n",
      "total_fer     167 non-null float64\n",
      "gdpp          167 non-null int64\n",
      "dtypes: float64(7), int64(2), object(1)\n",
      "memory usage: 12.5+ KB\n"
     ]
    }
   ],
   "source": [
    "#Checking for missing values\n",
    "df.info()"
   ]
  },
  {
   "cell_type": "code",
   "execution_count": 7,
   "metadata": {},
   "outputs": [
    {
     "data": {
      "text/html": [
       "<div>\n",
       "<style scoped>\n",
       "    .dataframe tbody tr th:only-of-type {\n",
       "        vertical-align: middle;\n",
       "    }\n",
       "\n",
       "    .dataframe tbody tr th {\n",
       "        vertical-align: top;\n",
       "    }\n",
       "\n",
       "    .dataframe thead th {\n",
       "        text-align: right;\n",
       "    }\n",
       "</style>\n",
       "<table border=\"1\" class=\"dataframe\">\n",
       "  <thead>\n",
       "    <tr style=\"text-align: right;\">\n",
       "      <th></th>\n",
       "      <th>child_mort</th>\n",
       "      <th>exports</th>\n",
       "      <th>health</th>\n",
       "      <th>imports</th>\n",
       "      <th>income</th>\n",
       "      <th>inflation</th>\n",
       "      <th>life_expec</th>\n",
       "      <th>total_fer</th>\n",
       "      <th>gdpp</th>\n",
       "    </tr>\n",
       "  </thead>\n",
       "  <tbody>\n",
       "    <tr>\n",
       "      <th>count</th>\n",
       "      <td>167.000000</td>\n",
       "      <td>167.000000</td>\n",
       "      <td>167.000000</td>\n",
       "      <td>167.000000</td>\n",
       "      <td>167.000000</td>\n",
       "      <td>167.000000</td>\n",
       "      <td>167.000000</td>\n",
       "      <td>167.000000</td>\n",
       "      <td>167.000000</td>\n",
       "    </tr>\n",
       "    <tr>\n",
       "      <th>mean</th>\n",
       "      <td>38.270060</td>\n",
       "      <td>7420.618847</td>\n",
       "      <td>1056.733204</td>\n",
       "      <td>6588.352108</td>\n",
       "      <td>17144.688623</td>\n",
       "      <td>7.781832</td>\n",
       "      <td>70.555689</td>\n",
       "      <td>2.947964</td>\n",
       "      <td>12964.155689</td>\n",
       "    </tr>\n",
       "    <tr>\n",
       "      <th>std</th>\n",
       "      <td>40.328931</td>\n",
       "      <td>17973.885795</td>\n",
       "      <td>1801.408906</td>\n",
       "      <td>14710.810418</td>\n",
       "      <td>19278.067698</td>\n",
       "      <td>10.570704</td>\n",
       "      <td>8.893172</td>\n",
       "      <td>1.513848</td>\n",
       "      <td>18328.704809</td>\n",
       "    </tr>\n",
       "    <tr>\n",
       "      <th>min</th>\n",
       "      <td>2.600000</td>\n",
       "      <td>1.076920</td>\n",
       "      <td>12.821200</td>\n",
       "      <td>0.651092</td>\n",
       "      <td>609.000000</td>\n",
       "      <td>-4.210000</td>\n",
       "      <td>32.100000</td>\n",
       "      <td>1.150000</td>\n",
       "      <td>231.000000</td>\n",
       "    </tr>\n",
       "    <tr>\n",
       "      <th>25%</th>\n",
       "      <td>8.250000</td>\n",
       "      <td>447.140000</td>\n",
       "      <td>78.535500</td>\n",
       "      <td>640.215000</td>\n",
       "      <td>3355.000000</td>\n",
       "      <td>1.810000</td>\n",
       "      <td>65.300000</td>\n",
       "      <td>1.795000</td>\n",
       "      <td>1330.000000</td>\n",
       "    </tr>\n",
       "    <tr>\n",
       "      <th>50%</th>\n",
       "      <td>19.300000</td>\n",
       "      <td>1777.440000</td>\n",
       "      <td>321.886000</td>\n",
       "      <td>2045.580000</td>\n",
       "      <td>9960.000000</td>\n",
       "      <td>5.390000</td>\n",
       "      <td>73.100000</td>\n",
       "      <td>2.410000</td>\n",
       "      <td>4660.000000</td>\n",
       "    </tr>\n",
       "    <tr>\n",
       "      <th>75%</th>\n",
       "      <td>62.100000</td>\n",
       "      <td>7278.000000</td>\n",
       "      <td>976.940000</td>\n",
       "      <td>7719.600000</td>\n",
       "      <td>22800.000000</td>\n",
       "      <td>10.750000</td>\n",
       "      <td>76.800000</td>\n",
       "      <td>3.880000</td>\n",
       "      <td>14050.000000</td>\n",
       "    </tr>\n",
       "    <tr>\n",
       "      <th>90%</th>\n",
       "      <td>100.220000</td>\n",
       "      <td>17760.600000</td>\n",
       "      <td>3825.416000</td>\n",
       "      <td>15034.280000</td>\n",
       "      <td>41220.000000</td>\n",
       "      <td>16.640000</td>\n",
       "      <td>80.400000</td>\n",
       "      <td>5.322000</td>\n",
       "      <td>41840.000000</td>\n",
       "    </tr>\n",
       "    <tr>\n",
       "      <th>95%</th>\n",
       "      <td>116.000000</td>\n",
       "      <td>31385.100000</td>\n",
       "      <td>4966.701000</td>\n",
       "      <td>24241.560000</td>\n",
       "      <td>48290.000000</td>\n",
       "      <td>20.870000</td>\n",
       "      <td>81.400000</td>\n",
       "      <td>5.861000</td>\n",
       "      <td>48610.000000</td>\n",
       "    </tr>\n",
       "    <tr>\n",
       "      <th>99%</th>\n",
       "      <td>153.400000</td>\n",
       "      <td>64794.260000</td>\n",
       "      <td>8410.330400</td>\n",
       "      <td>55371.390000</td>\n",
       "      <td>84374.000000</td>\n",
       "      <td>41.478000</td>\n",
       "      <td>82.370000</td>\n",
       "      <td>6.563600</td>\n",
       "      <td>79088.000000</td>\n",
       "    </tr>\n",
       "    <tr>\n",
       "      <th>max</th>\n",
       "      <td>208.000000</td>\n",
       "      <td>183750.000000</td>\n",
       "      <td>8663.600000</td>\n",
       "      <td>149100.000000</td>\n",
       "      <td>125000.000000</td>\n",
       "      <td>104.000000</td>\n",
       "      <td>82.800000</td>\n",
       "      <td>7.490000</td>\n",
       "      <td>105000.000000</td>\n",
       "    </tr>\n",
       "  </tbody>\n",
       "</table>\n",
       "</div>"
      ],
      "text/plain": [
       "       child_mort        exports       health        imports         income  \\\n",
       "count  167.000000     167.000000   167.000000     167.000000     167.000000   \n",
       "mean    38.270060    7420.618847  1056.733204    6588.352108   17144.688623   \n",
       "std     40.328931   17973.885795  1801.408906   14710.810418   19278.067698   \n",
       "min      2.600000       1.076920    12.821200       0.651092     609.000000   \n",
       "25%      8.250000     447.140000    78.535500     640.215000    3355.000000   \n",
       "50%     19.300000    1777.440000   321.886000    2045.580000    9960.000000   \n",
       "75%     62.100000    7278.000000   976.940000    7719.600000   22800.000000   \n",
       "90%    100.220000   17760.600000  3825.416000   15034.280000   41220.000000   \n",
       "95%    116.000000   31385.100000  4966.701000   24241.560000   48290.000000   \n",
       "99%    153.400000   64794.260000  8410.330400   55371.390000   84374.000000   \n",
       "max    208.000000  183750.000000  8663.600000  149100.000000  125000.000000   \n",
       "\n",
       "        inflation  life_expec   total_fer           gdpp  \n",
       "count  167.000000  167.000000  167.000000     167.000000  \n",
       "mean     7.781832   70.555689    2.947964   12964.155689  \n",
       "std     10.570704    8.893172    1.513848   18328.704809  \n",
       "min     -4.210000   32.100000    1.150000     231.000000  \n",
       "25%      1.810000   65.300000    1.795000    1330.000000  \n",
       "50%      5.390000   73.100000    2.410000    4660.000000  \n",
       "75%     10.750000   76.800000    3.880000   14050.000000  \n",
       "90%     16.640000   80.400000    5.322000   41840.000000  \n",
       "95%     20.870000   81.400000    5.861000   48610.000000  \n",
       "99%     41.478000   82.370000    6.563600   79088.000000  \n",
       "max    104.000000   82.800000    7.490000  105000.000000  "
      ]
     },
     "execution_count": 7,
     "metadata": {},
     "output_type": "execute_result"
    }
   ],
   "source": [
    "#Finding if there are outliers\n",
    "df.describe(percentiles=[.25,.5,.75,.90,.95,.99])"
   ]
  },
  {
   "cell_type": "code",
   "execution_count": 8,
   "metadata": {},
   "outputs": [],
   "source": [
    "#Wer can clearly see that there are outliers in almost all the variables"
   ]
  },
  {
   "cell_type": "code",
   "execution_count": 9,
   "metadata": {},
   "outputs": [],
   "source": [
    "df1=df"
   ]
  },
  {
   "cell_type": "code",
   "execution_count": 10,
   "metadata": {},
   "outputs": [
    {
     "data": {
      "text/plain": [
       "(167, 10)"
      ]
     },
     "execution_count": 10,
     "metadata": {},
     "output_type": "execute_result"
    }
   ],
   "source": [
    "df.shape"
   ]
  },
  {
   "cell_type": "code",
   "execution_count": 11,
   "metadata": {},
   "outputs": [],
   "source": [
    "# removing (statistical) outliers\n",
    "Q1 = df1.child_mort.quantile(0.05)\n",
    "Q3 = df1.child_mort.quantile(0.95)\n",
    "IQR = Q3 - Q1\n",
    "df1 = df1[(df1.child_mort >= Q1 - 1.5*IQR) & (df1.child_mort <= Q3 + 1.5*IQR)]\n",
    "\n",
    "# removing (statistical) outliers\n",
    "Q1 = df1.exports.quantile(0.05)\n",
    "Q3 = df1.exports.quantile(0.95)\n",
    "IQR = Q3 - Q1\n",
    "df1 = df1[(df1.exports >= Q1 - 1.5*IQR) & (df1.exports <= Q3 + 1.5*IQR)]\n",
    "\n",
    "\n",
    "# removing (statistical) outliers\n",
    "Q1 = df1.health.quantile(0.05)\n",
    "Q3 = df1.health.quantile(0.95)\n",
    "IQR = Q3 - Q1\n",
    "df1 = df1[(df1.health >= Q1 - 1.5*IQR) & (df1.health <= Q3 + 1.5*IQR)]\n",
    "\n",
    "# removing (statistical) outliers\n",
    "Q1 = df1.imports.quantile(0.05)\n",
    "Q3 = df1.imports.quantile(0.95)\n",
    "IQR = Q3 - Q1\n",
    "df1 = df1[(df1.imports >= Q1 - 1.5*IQR) & (df1.imports <= Q3 + 1.5*IQR)]\n",
    "\n",
    "# removing (statistical) outliers\n",
    "Q1 = df1.income.quantile(0.05)\n",
    "Q3 = df1.income.quantile(0.95)\n",
    "IQR = Q3 - Q1\n",
    "df1 = df1[(df1.income >= Q1 - 1.5*IQR) & (df1.income <= Q3 + 1.5*IQR)]\n",
    "\n",
    "# removing (statistical) outliers\n",
    "Q1 = df1.inflation.quantile(0.05)\n",
    "Q3 = df1.inflation.quantile(0.95)\n",
    "IQR = Q3 - Q1\n",
    "df1 = df1[(df1.inflation >= Q1 - 1.5*IQR) & (df1.inflation <= Q3 + 1.5*IQR)]\n",
    "\n",
    "# removing (statistical) outliers\n",
    "Q1 = df1.life_expec.quantile(0.05)\n",
    "Q3 = df1.life_expec.quantile(0.95)\n",
    "IQR = Q3 - Q1\n",
    "df1 = df1[(df1.life_expec >= Q1 - 1.5*IQR) & (df1.life_expec <= Q3 + 1.5*IQR)]\n",
    "\n",
    "# removing (statistical) outliers\n",
    "Q1 = df1.total_fer.quantile(0.05)\n",
    "Q3 = df1.total_fer.quantile(0.95)\n",
    "IQR = Q3 - Q1\n",
    "df1 = df1[(df1.total_fer >= Q1 - 1.5*IQR) & (df1.total_fer <= Q3 + 1.5*IQR)]\n",
    "\n",
    "# removing (statistical) outliers\n",
    "Q1 = df1.gdpp.quantile(0.05)\n",
    "Q3 = df1.gdpp.quantile(0.95)\n",
    "IQR = Q3 - Q1\n",
    "df1 = df1[(df1.gdpp >= Q1 - 1.5*IQR) & (df1.gdpp <= Q3 + 1.5*IQR)]"
   ]
  },
  {
   "cell_type": "code",
   "execution_count": 12,
   "metadata": {},
   "outputs": [
    {
     "data": {
      "text/plain": [
       "(163, 10)"
      ]
     },
     "execution_count": 12,
     "metadata": {},
     "output_type": "execute_result"
    }
   ],
   "source": [
    "df1.shape"
   ]
  },
  {
   "cell_type": "code",
   "execution_count": 13,
   "metadata": {},
   "outputs": [],
   "source": [
    "l=list(df1.country)\n",
    "l1=list(df.country)"
   ]
  },
  {
   "cell_type": "code",
   "execution_count": 14,
   "metadata": {},
   "outputs": [
    {
     "data": {
      "text/plain": [
       "['Luxembourg', 'Nigeria', 'Qatar', 'Singapore']"
      ]
     },
     "execution_count": 14,
     "metadata": {},
     "output_type": "execute_result"
    }
   ],
   "source": [
    "s=[i for i in l1 if i not in l]\n",
    "s"
   ]
  },
  {
   "cell_type": "code",
   "execution_count": 15,
   "metadata": {},
   "outputs": [],
   "source": [
    "#These countries wont be included in our analysis,which is a dangerous omission because they also have to be considered as part of our analysis"
   ]
  },
  {
   "cell_type": "code",
   "execution_count": 16,
   "metadata": {},
   "outputs": [],
   "source": [
    "l=[i for i in df.columns if i!='country']"
   ]
  },
  {
   "cell_type": "code",
   "execution_count": 17,
   "metadata": {},
   "outputs": [],
   "source": [
    "df_notnormal=df"
   ]
  },
  {
   "cell_type": "code",
   "execution_count": 18,
   "metadata": {},
   "outputs": [
    {
     "data": {
      "text/html": [
       "<div>\n",
       "<style scoped>\n",
       "    .dataframe tbody tr th:only-of-type {\n",
       "        vertical-align: middle;\n",
       "    }\n",
       "\n",
       "    .dataframe tbody tr th {\n",
       "        vertical-align: top;\n",
       "    }\n",
       "\n",
       "    .dataframe thead th {\n",
       "        text-align: right;\n",
       "    }\n",
       "</style>\n",
       "<table border=\"1\" class=\"dataframe\">\n",
       "  <thead>\n",
       "    <tr style=\"text-align: right;\">\n",
       "      <th></th>\n",
       "      <th>child_mort</th>\n",
       "      <th>exports</th>\n",
       "      <th>health</th>\n",
       "      <th>imports</th>\n",
       "      <th>income</th>\n",
       "      <th>inflation</th>\n",
       "      <th>life_expec</th>\n",
       "      <th>total_fer</th>\n",
       "      <th>gdpp</th>\n",
       "    </tr>\n",
       "  </thead>\n",
       "  <tbody>\n",
       "    <tr>\n",
       "      <th>0</th>\n",
       "      <td>90.2</td>\n",
       "      <td>55.30</td>\n",
       "      <td>41.9174</td>\n",
       "      <td>248.297</td>\n",
       "      <td>1610</td>\n",
       "      <td>9.44</td>\n",
       "      <td>56.2</td>\n",
       "      <td>5.82</td>\n",
       "      <td>553</td>\n",
       "    </tr>\n",
       "    <tr>\n",
       "      <th>1</th>\n",
       "      <td>16.6</td>\n",
       "      <td>1145.20</td>\n",
       "      <td>267.8950</td>\n",
       "      <td>1987.740</td>\n",
       "      <td>9930</td>\n",
       "      <td>4.49</td>\n",
       "      <td>76.3</td>\n",
       "      <td>1.65</td>\n",
       "      <td>4090</td>\n",
       "    </tr>\n",
       "    <tr>\n",
       "      <th>2</th>\n",
       "      <td>27.3</td>\n",
       "      <td>1712.64</td>\n",
       "      <td>185.9820</td>\n",
       "      <td>1400.440</td>\n",
       "      <td>12900</td>\n",
       "      <td>16.10</td>\n",
       "      <td>76.5</td>\n",
       "      <td>2.89</td>\n",
       "      <td>4460</td>\n",
       "    </tr>\n",
       "    <tr>\n",
       "      <th>3</th>\n",
       "      <td>119.0</td>\n",
       "      <td>2199.19</td>\n",
       "      <td>100.6050</td>\n",
       "      <td>1514.370</td>\n",
       "      <td>5900</td>\n",
       "      <td>22.40</td>\n",
       "      <td>60.1</td>\n",
       "      <td>6.16</td>\n",
       "      <td>3530</td>\n",
       "    </tr>\n",
       "    <tr>\n",
       "      <th>4</th>\n",
       "      <td>10.3</td>\n",
       "      <td>5551.00</td>\n",
       "      <td>735.6600</td>\n",
       "      <td>7185.800</td>\n",
       "      <td>19100</td>\n",
       "      <td>1.44</td>\n",
       "      <td>76.8</td>\n",
       "      <td>2.13</td>\n",
       "      <td>12200</td>\n",
       "    </tr>\n",
       "  </tbody>\n",
       "</table>\n",
       "</div>"
      ],
      "text/plain": [
       "   child_mort  exports    health   imports  income  inflation  life_expec  \\\n",
       "0        90.2    55.30   41.9174   248.297    1610       9.44        56.2   \n",
       "1        16.6  1145.20  267.8950  1987.740    9930       4.49        76.3   \n",
       "2        27.3  1712.64  185.9820  1400.440   12900      16.10        76.5   \n",
       "3       119.0  2199.19  100.6050  1514.370    5900      22.40        60.1   \n",
       "4        10.3  5551.00  735.6600  7185.800   19100       1.44        76.8   \n",
       "\n",
       "   total_fer   gdpp  \n",
       "0       5.82    553  \n",
       "1       1.65   4090  \n",
       "2       2.89   4460  \n",
       "3       6.16   3530  \n",
       "4       2.13  12200  "
      ]
     },
     "execution_count": 18,
     "metadata": {},
     "output_type": "execute_result"
    }
   ],
   "source": [
    "df[l].head()"
   ]
  },
  {
   "cell_type": "code",
   "execution_count": 19,
   "metadata": {},
   "outputs": [],
   "source": [
    "#Normalizing the data\n",
    "normalized_df=(df[l]-df[l].mean())/df[l].std()"
   ]
  },
  {
   "cell_type": "code",
   "execution_count": 20,
   "metadata": {},
   "outputs": [],
   "source": [
    "df=pd.concat([df['country'],normalized_df],axis=1)"
   ]
  },
  {
   "cell_type": "code",
   "execution_count": 21,
   "metadata": {},
   "outputs": [
    {
     "data": {
      "text/html": [
       "<div>\n",
       "<style scoped>\n",
       "    .dataframe tbody tr th:only-of-type {\n",
       "        vertical-align: middle;\n",
       "    }\n",
       "\n",
       "    .dataframe tbody tr th {\n",
       "        vertical-align: top;\n",
       "    }\n",
       "\n",
       "    .dataframe thead th {\n",
       "        text-align: right;\n",
       "    }\n",
       "</style>\n",
       "<table border=\"1\" class=\"dataframe\">\n",
       "  <thead>\n",
       "    <tr style=\"text-align: right;\">\n",
       "      <th></th>\n",
       "      <th>country</th>\n",
       "      <th>child_mort</th>\n",
       "      <th>exports</th>\n",
       "      <th>health</th>\n",
       "      <th>imports</th>\n",
       "      <th>income</th>\n",
       "      <th>inflation</th>\n",
       "      <th>life_expec</th>\n",
       "      <th>total_fer</th>\n",
       "      <th>gdpp</th>\n",
       "    </tr>\n",
       "  </thead>\n",
       "  <tbody>\n",
       "    <tr>\n",
       "      <th>0</th>\n",
       "      <td>Afghanistan</td>\n",
       "      <td>1.287660</td>\n",
       "      <td>-0.409779</td>\n",
       "      <td>-0.563346</td>\n",
       "      <td>-0.430979</td>\n",
       "      <td>-0.805822</td>\n",
       "      <td>0.156864</td>\n",
       "      <td>-1.614237</td>\n",
       "      <td>1.897176</td>\n",
       "      <td>-0.677143</td>\n",
       "    </tr>\n",
       "    <tr>\n",
       "      <th>1</th>\n",
       "      <td>Albania</td>\n",
       "      <td>-0.537333</td>\n",
       "      <td>-0.349141</td>\n",
       "      <td>-0.437901</td>\n",
       "      <td>-0.312737</td>\n",
       "      <td>-0.374243</td>\n",
       "      <td>-0.311411</td>\n",
       "      <td>0.645924</td>\n",
       "      <td>-0.857394</td>\n",
       "      <td>-0.484167</td>\n",
       "    </tr>\n",
       "    <tr>\n",
       "      <th>2</th>\n",
       "      <td>Algeria</td>\n",
       "      <td>-0.272015</td>\n",
       "      <td>-0.317571</td>\n",
       "      <td>-0.483372</td>\n",
       "      <td>-0.352660</td>\n",
       "      <td>-0.220182</td>\n",
       "      <td>0.786908</td>\n",
       "      <td>0.668413</td>\n",
       "      <td>-0.038289</td>\n",
       "      <td>-0.463980</td>\n",
       "    </tr>\n",
       "    <tr>\n",
       "      <th>3</th>\n",
       "      <td>Angola</td>\n",
       "      <td>2.001787</td>\n",
       "      <td>-0.290501</td>\n",
       "      <td>-0.530767</td>\n",
       "      <td>-0.344915</td>\n",
       "      <td>-0.583289</td>\n",
       "      <td>1.382894</td>\n",
       "      <td>-1.175698</td>\n",
       "      <td>2.121770</td>\n",
       "      <td>-0.514720</td>\n",
       "    </tr>\n",
       "    <tr>\n",
       "      <th>4</th>\n",
       "      <td>Antigua and Barbuda</td>\n",
       "      <td>-0.693548</td>\n",
       "      <td>-0.104019</td>\n",
       "      <td>-0.178234</td>\n",
       "      <td>0.040613</td>\n",
       "      <td>0.101427</td>\n",
       "      <td>-0.599944</td>\n",
       "      <td>0.702147</td>\n",
       "      <td>-0.540321</td>\n",
       "      <td>-0.041692</td>\n",
       "    </tr>\n",
       "  </tbody>\n",
       "</table>\n",
       "</div>"
      ],
      "text/plain": [
       "               country  child_mort   exports    health   imports    income  \\\n",
       "0          Afghanistan    1.287660 -0.409779 -0.563346 -0.430979 -0.805822   \n",
       "1              Albania   -0.537333 -0.349141 -0.437901 -0.312737 -0.374243   \n",
       "2              Algeria   -0.272015 -0.317571 -0.483372 -0.352660 -0.220182   \n",
       "3               Angola    2.001787 -0.290501 -0.530767 -0.344915 -0.583289   \n",
       "4  Antigua and Barbuda   -0.693548 -0.104019 -0.178234  0.040613  0.101427   \n",
       "\n",
       "   inflation  life_expec  total_fer      gdpp  \n",
       "0   0.156864   -1.614237   1.897176 -0.677143  \n",
       "1  -0.311411    0.645924  -0.857394 -0.484167  \n",
       "2   0.786908    0.668413  -0.038289 -0.463980  \n",
       "3   1.382894   -1.175698   2.121770 -0.514720  \n",
       "4  -0.599944    0.702147  -0.540321 -0.041692  "
      ]
     },
     "execution_count": 21,
     "metadata": {},
     "output_type": "execute_result"
    }
   ],
   "source": [
    "df.head()"
   ]
  },
  {
   "cell_type": "code",
   "execution_count": 22,
   "metadata": {},
   "outputs": [
    {
     "data": {
      "text/html": [
       "<div>\n",
       "<style scoped>\n",
       "    .dataframe tbody tr th:only-of-type {\n",
       "        vertical-align: middle;\n",
       "    }\n",
       "\n",
       "    .dataframe tbody tr th {\n",
       "        vertical-align: top;\n",
       "    }\n",
       "\n",
       "    .dataframe thead th {\n",
       "        text-align: right;\n",
       "    }\n",
       "</style>\n",
       "<table border=\"1\" class=\"dataframe\">\n",
       "  <thead>\n",
       "    <tr style=\"text-align: right;\">\n",
       "      <th></th>\n",
       "      <th>country</th>\n",
       "      <th>child_mort</th>\n",
       "      <th>exports</th>\n",
       "      <th>health</th>\n",
       "      <th>imports</th>\n",
       "      <th>income</th>\n",
       "      <th>inflation</th>\n",
       "      <th>life_expec</th>\n",
       "      <th>total_fer</th>\n",
       "      <th>gdpp</th>\n",
       "    </tr>\n",
       "  </thead>\n",
       "  <tbody>\n",
       "    <tr>\n",
       "      <th>0</th>\n",
       "      <td>Afghanistan</td>\n",
       "      <td>1.287660</td>\n",
       "      <td>-0.409779</td>\n",
       "      <td>-0.563346</td>\n",
       "      <td>-0.430979</td>\n",
       "      <td>-0.805822</td>\n",
       "      <td>0.156864</td>\n",
       "      <td>-1.614237</td>\n",
       "      <td>1.897176</td>\n",
       "      <td>-0.677143</td>\n",
       "    </tr>\n",
       "    <tr>\n",
       "      <th>1</th>\n",
       "      <td>Albania</td>\n",
       "      <td>-0.537333</td>\n",
       "      <td>-0.349141</td>\n",
       "      <td>-0.437901</td>\n",
       "      <td>-0.312737</td>\n",
       "      <td>-0.374243</td>\n",
       "      <td>-0.311411</td>\n",
       "      <td>0.645924</td>\n",
       "      <td>-0.857394</td>\n",
       "      <td>-0.484167</td>\n",
       "    </tr>\n",
       "    <tr>\n",
       "      <th>2</th>\n",
       "      <td>Algeria</td>\n",
       "      <td>-0.272015</td>\n",
       "      <td>-0.317571</td>\n",
       "      <td>-0.483372</td>\n",
       "      <td>-0.352660</td>\n",
       "      <td>-0.220182</td>\n",
       "      <td>0.786908</td>\n",
       "      <td>0.668413</td>\n",
       "      <td>-0.038289</td>\n",
       "      <td>-0.463980</td>\n",
       "    </tr>\n",
       "    <tr>\n",
       "      <th>3</th>\n",
       "      <td>Angola</td>\n",
       "      <td>2.001787</td>\n",
       "      <td>-0.290501</td>\n",
       "      <td>-0.530767</td>\n",
       "      <td>-0.344915</td>\n",
       "      <td>-0.583289</td>\n",
       "      <td>1.382894</td>\n",
       "      <td>-1.175698</td>\n",
       "      <td>2.121770</td>\n",
       "      <td>-0.514720</td>\n",
       "    </tr>\n",
       "    <tr>\n",
       "      <th>4</th>\n",
       "      <td>Antigua and Barbuda</td>\n",
       "      <td>-0.693548</td>\n",
       "      <td>-0.104019</td>\n",
       "      <td>-0.178234</td>\n",
       "      <td>0.040613</td>\n",
       "      <td>0.101427</td>\n",
       "      <td>-0.599944</td>\n",
       "      <td>0.702147</td>\n",
       "      <td>-0.540321</td>\n",
       "      <td>-0.041692</td>\n",
       "    </tr>\n",
       "  </tbody>\n",
       "</table>\n",
       "</div>"
      ],
      "text/plain": [
       "               country  child_mort   exports    health   imports    income  \\\n",
       "0          Afghanistan    1.287660 -0.409779 -0.563346 -0.430979 -0.805822   \n",
       "1              Albania   -0.537333 -0.349141 -0.437901 -0.312737 -0.374243   \n",
       "2              Algeria   -0.272015 -0.317571 -0.483372 -0.352660 -0.220182   \n",
       "3               Angola    2.001787 -0.290501 -0.530767 -0.344915 -0.583289   \n",
       "4  Antigua and Barbuda   -0.693548 -0.104019 -0.178234  0.040613  0.101427   \n",
       "\n",
       "   inflation  life_expec  total_fer      gdpp  \n",
       "0   0.156864   -1.614237   1.897176 -0.677143  \n",
       "1  -0.311411    0.645924  -0.857394 -0.484167  \n",
       "2   0.786908    0.668413  -0.038289 -0.463980  \n",
       "3   1.382894   -1.175698   2.121770 -0.514720  \n",
       "4  -0.599944    0.702147  -0.540321 -0.041692  "
      ]
     },
     "execution_count": 22,
     "metadata": {},
     "output_type": "execute_result"
    }
   ],
   "source": [
    "df.head()"
   ]
  },
  {
   "cell_type": "code",
   "execution_count": 23,
   "metadata": {},
   "outputs": [],
   "source": [
    "X=df.drop(['country'],axis=1)"
   ]
  },
  {
   "cell_type": "code",
   "execution_count": 24,
   "metadata": {},
   "outputs": [
    {
     "data": {
      "text/html": [
       "<div>\n",
       "<style scoped>\n",
       "    .dataframe tbody tr th:only-of-type {\n",
       "        vertical-align: middle;\n",
       "    }\n",
       "\n",
       "    .dataframe tbody tr th {\n",
       "        vertical-align: top;\n",
       "    }\n",
       "\n",
       "    .dataframe thead th {\n",
       "        text-align: right;\n",
       "    }\n",
       "</style>\n",
       "<table border=\"1\" class=\"dataframe\">\n",
       "  <thead>\n",
       "    <tr style=\"text-align: right;\">\n",
       "      <th></th>\n",
       "      <th>country</th>\n",
       "      <th>child_mort</th>\n",
       "      <th>exports</th>\n",
       "      <th>health</th>\n",
       "      <th>imports</th>\n",
       "      <th>income</th>\n",
       "      <th>inflation</th>\n",
       "      <th>life_expec</th>\n",
       "      <th>total_fer</th>\n",
       "      <th>gdpp</th>\n",
       "    </tr>\n",
       "  </thead>\n",
       "  <tbody>\n",
       "    <tr>\n",
       "      <th>0</th>\n",
       "      <td>Afghanistan</td>\n",
       "      <td>1.287660</td>\n",
       "      <td>-0.409779</td>\n",
       "      <td>-0.563346</td>\n",
       "      <td>-0.430979</td>\n",
       "      <td>-0.805822</td>\n",
       "      <td>0.156864</td>\n",
       "      <td>-1.614237</td>\n",
       "      <td>1.897176</td>\n",
       "      <td>-0.677143</td>\n",
       "    </tr>\n",
       "    <tr>\n",
       "      <th>1</th>\n",
       "      <td>Albania</td>\n",
       "      <td>-0.537333</td>\n",
       "      <td>-0.349141</td>\n",
       "      <td>-0.437901</td>\n",
       "      <td>-0.312737</td>\n",
       "      <td>-0.374243</td>\n",
       "      <td>-0.311411</td>\n",
       "      <td>0.645924</td>\n",
       "      <td>-0.857394</td>\n",
       "      <td>-0.484167</td>\n",
       "    </tr>\n",
       "    <tr>\n",
       "      <th>2</th>\n",
       "      <td>Algeria</td>\n",
       "      <td>-0.272015</td>\n",
       "      <td>-0.317571</td>\n",
       "      <td>-0.483372</td>\n",
       "      <td>-0.352660</td>\n",
       "      <td>-0.220182</td>\n",
       "      <td>0.786908</td>\n",
       "      <td>0.668413</td>\n",
       "      <td>-0.038289</td>\n",
       "      <td>-0.463980</td>\n",
       "    </tr>\n",
       "    <tr>\n",
       "      <th>3</th>\n",
       "      <td>Angola</td>\n",
       "      <td>2.001787</td>\n",
       "      <td>-0.290501</td>\n",
       "      <td>-0.530767</td>\n",
       "      <td>-0.344915</td>\n",
       "      <td>-0.583289</td>\n",
       "      <td>1.382894</td>\n",
       "      <td>-1.175698</td>\n",
       "      <td>2.121770</td>\n",
       "      <td>-0.514720</td>\n",
       "    </tr>\n",
       "    <tr>\n",
       "      <th>4</th>\n",
       "      <td>Antigua and Barbuda</td>\n",
       "      <td>-0.693548</td>\n",
       "      <td>-0.104019</td>\n",
       "      <td>-0.178234</td>\n",
       "      <td>0.040613</td>\n",
       "      <td>0.101427</td>\n",
       "      <td>-0.599944</td>\n",
       "      <td>0.702147</td>\n",
       "      <td>-0.540321</td>\n",
       "      <td>-0.041692</td>\n",
       "    </tr>\n",
       "  </tbody>\n",
       "</table>\n",
       "</div>"
      ],
      "text/plain": [
       "               country  child_mort   exports    health   imports    income  \\\n",
       "0          Afghanistan    1.287660 -0.409779 -0.563346 -0.430979 -0.805822   \n",
       "1              Albania   -0.537333 -0.349141 -0.437901 -0.312737 -0.374243   \n",
       "2              Algeria   -0.272015 -0.317571 -0.483372 -0.352660 -0.220182   \n",
       "3               Angola    2.001787 -0.290501 -0.530767 -0.344915 -0.583289   \n",
       "4  Antigua and Barbuda   -0.693548 -0.104019 -0.178234  0.040613  0.101427   \n",
       "\n",
       "   inflation  life_expec  total_fer      gdpp  \n",
       "0   0.156864   -1.614237   1.897176 -0.677143  \n",
       "1  -0.311411    0.645924  -0.857394 -0.484167  \n",
       "2   0.786908    0.668413  -0.038289 -0.463980  \n",
       "3   1.382894   -1.175698   2.121770 -0.514720  \n",
       "4  -0.599944    0.702147  -0.540321 -0.041692  "
      ]
     },
     "execution_count": 24,
     "metadata": {},
     "output_type": "execute_result"
    }
   ],
   "source": [
    "df.head()"
   ]
  },
  {
   "cell_type": "code",
   "execution_count": 25,
   "metadata": {},
   "outputs": [],
   "source": [
    "#Improting the PCA module\n",
    "from sklearn.decomposition import PCA\n",
    "pca = PCA(svd_solver='randomized', random_state=42)"
   ]
  },
  {
   "cell_type": "code",
   "execution_count": 26,
   "metadata": {},
   "outputs": [
    {
     "data": {
      "text/plain": [
       "PCA(copy=True, iterated_power='auto', n_components=None, random_state=42,\n",
       "    svd_solver='randomized', tol=0.0, whiten=False)"
      ]
     },
     "execution_count": 26,
     "metadata": {},
     "output_type": "execute_result"
    }
   ],
   "source": [
    "#Performing the PCA\n",
    "pca.fit(X)"
   ]
  },
  {
   "cell_type": "code",
   "execution_count": 27,
   "metadata": {},
   "outputs": [
    {
     "data": {
      "text/plain": [
       "array([[-0.31639186,  0.34288671,  0.358535  ,  0.34486492,  0.38004113,\n",
       "        -0.14308531,  0.34385651, -0.30284224,  0.39998795],\n",
       "       [ 0.47626735,  0.39731091,  0.1550529 ,  0.37078075,  0.12838448,\n",
       "         0.22126089, -0.36981973,  0.4597152 ,  0.2006241 ],\n",
       "       [-0.15001225, -0.03057367, -0.07570322, -0.07217386,  0.14576421,\n",
       "         0.94841868,  0.19675173, -0.07783431,  0.01033941],\n",
       "       [-0.14805195,  0.44942527, -0.59971228,  0.46179779, -0.15480592,\n",
       "        -0.00762798, -0.01839465, -0.21392805, -0.36477239],\n",
       "       [ 0.1019948 , -0.03853829, -0.49319984, -0.2527867 ,  0.79407469,\n",
       "        -0.13642345, -0.15404105, -0.02033568,  0.08750149],\n",
       "       [ 0.19658519, -0.03891112,  0.18069888, -0.01217988, -0.03814681,\n",
       "         0.10840284, -0.58600986, -0.75390075,  0.04538167],\n",
       "       [ 0.76126725, -0.01366973, -0.06461567,  0.02718244, -0.02311312,\n",
       "        -0.02207663,  0.58120846, -0.27314534, -0.04402264],\n",
       "       [ 0.00644411, -0.05526371,  0.43007213,  0.1311355 ,  0.3938113 ,\n",
       "        -0.00607016,  0.002966  ,  0.03429334, -0.79902242],\n",
       "       [-0.00495137, -0.71792388, -0.13034593,  0.66568664,  0.07901102,\n",
       "         0.01128137, -0.03159406,  0.02368185,  0.12846398]])"
      ]
     },
     "execution_count": 27,
     "metadata": {},
     "output_type": "execute_result"
    }
   ],
   "source": [
    "#List of PCA components.\n",
    "pca.components_"
   ]
  },
  {
   "cell_type": "code",
   "execution_count": 28,
   "metadata": {},
   "outputs": [
    {
     "data": {
      "text/html": [
       "<div>\n",
       "<style scoped>\n",
       "    .dataframe tbody tr th:only-of-type {\n",
       "        vertical-align: middle;\n",
       "    }\n",
       "\n",
       "    .dataframe tbody tr th {\n",
       "        vertical-align: top;\n",
       "    }\n",
       "\n",
       "    .dataframe thead th {\n",
       "        text-align: right;\n",
       "    }\n",
       "</style>\n",
       "<table border=\"1\" class=\"dataframe\">\n",
       "  <thead>\n",
       "    <tr style=\"text-align: right;\">\n",
       "      <th></th>\n",
       "      <th>child_mort</th>\n",
       "      <th>exports</th>\n",
       "      <th>health</th>\n",
       "      <th>imports</th>\n",
       "      <th>income</th>\n",
       "      <th>inflation</th>\n",
       "      <th>life_expec</th>\n",
       "      <th>total_fer</th>\n",
       "      <th>gdpp</th>\n",
       "    </tr>\n",
       "  </thead>\n",
       "  <tbody>\n",
       "    <tr>\n",
       "      <th>0</th>\n",
       "      <td>1.287660</td>\n",
       "      <td>-0.409779</td>\n",
       "      <td>-0.563346</td>\n",
       "      <td>-0.430979</td>\n",
       "      <td>-0.805822</td>\n",
       "      <td>0.156864</td>\n",
       "      <td>-1.614237</td>\n",
       "      <td>1.897176</td>\n",
       "      <td>-0.677143</td>\n",
       "    </tr>\n",
       "    <tr>\n",
       "      <th>1</th>\n",
       "      <td>-0.537333</td>\n",
       "      <td>-0.349141</td>\n",
       "      <td>-0.437901</td>\n",
       "      <td>-0.312737</td>\n",
       "      <td>-0.374243</td>\n",
       "      <td>-0.311411</td>\n",
       "      <td>0.645924</td>\n",
       "      <td>-0.857394</td>\n",
       "      <td>-0.484167</td>\n",
       "    </tr>\n",
       "    <tr>\n",
       "      <th>2</th>\n",
       "      <td>-0.272015</td>\n",
       "      <td>-0.317571</td>\n",
       "      <td>-0.483372</td>\n",
       "      <td>-0.352660</td>\n",
       "      <td>-0.220182</td>\n",
       "      <td>0.786908</td>\n",
       "      <td>0.668413</td>\n",
       "      <td>-0.038289</td>\n",
       "      <td>-0.463980</td>\n",
       "    </tr>\n",
       "    <tr>\n",
       "      <th>3</th>\n",
       "      <td>2.001787</td>\n",
       "      <td>-0.290501</td>\n",
       "      <td>-0.530767</td>\n",
       "      <td>-0.344915</td>\n",
       "      <td>-0.583289</td>\n",
       "      <td>1.382894</td>\n",
       "      <td>-1.175698</td>\n",
       "      <td>2.121770</td>\n",
       "      <td>-0.514720</td>\n",
       "    </tr>\n",
       "    <tr>\n",
       "      <th>4</th>\n",
       "      <td>-0.693548</td>\n",
       "      <td>-0.104019</td>\n",
       "      <td>-0.178234</td>\n",
       "      <td>0.040613</td>\n",
       "      <td>0.101427</td>\n",
       "      <td>-0.599944</td>\n",
       "      <td>0.702147</td>\n",
       "      <td>-0.540321</td>\n",
       "      <td>-0.041692</td>\n",
       "    </tr>\n",
       "  </tbody>\n",
       "</table>\n",
       "</div>"
      ],
      "text/plain": [
       "   child_mort   exports    health   imports    income  inflation  life_expec  \\\n",
       "0    1.287660 -0.409779 -0.563346 -0.430979 -0.805822   0.156864   -1.614237   \n",
       "1   -0.537333 -0.349141 -0.437901 -0.312737 -0.374243  -0.311411    0.645924   \n",
       "2   -0.272015 -0.317571 -0.483372 -0.352660 -0.220182   0.786908    0.668413   \n",
       "3    2.001787 -0.290501 -0.530767 -0.344915 -0.583289   1.382894   -1.175698   \n",
       "4   -0.693548 -0.104019 -0.178234  0.040613  0.101427  -0.599944    0.702147   \n",
       "\n",
       "   total_fer      gdpp  \n",
       "0   1.897176 -0.677143  \n",
       "1  -0.857394 -0.484167  \n",
       "2  -0.038289 -0.463980  \n",
       "3   2.121770 -0.514720  \n",
       "4  -0.540321 -0.041692  "
      ]
     },
     "execution_count": 28,
     "metadata": {},
     "output_type": "execute_result"
    }
   ],
   "source": [
    "colnames = list(X.columns)\n",
    "#oolnames\n",
    "X.head()"
   ]
  },
  {
   "cell_type": "code",
   "execution_count": 29,
   "metadata": {},
   "outputs": [
    {
     "data": {
      "text/html": [
       "<div>\n",
       "<style scoped>\n",
       "    .dataframe tbody tr th:only-of-type {\n",
       "        vertical-align: middle;\n",
       "    }\n",
       "\n",
       "    .dataframe tbody tr th {\n",
       "        vertical-align: top;\n",
       "    }\n",
       "\n",
       "    .dataframe thead th {\n",
       "        text-align: right;\n",
       "    }\n",
       "</style>\n",
       "<table border=\"1\" class=\"dataframe\">\n",
       "  <thead>\n",
       "    <tr style=\"text-align: right;\">\n",
       "      <th></th>\n",
       "      <th>PC1</th>\n",
       "      <th>PC2</th>\n",
       "      <th>Feature</th>\n",
       "    </tr>\n",
       "  </thead>\n",
       "  <tbody>\n",
       "    <tr>\n",
       "      <th>0</th>\n",
       "      <td>-0.316392</td>\n",
       "      <td>0.476267</td>\n",
       "      <td>child_mort</td>\n",
       "    </tr>\n",
       "    <tr>\n",
       "      <th>1</th>\n",
       "      <td>0.342887</td>\n",
       "      <td>0.397311</td>\n",
       "      <td>exports</td>\n",
       "    </tr>\n",
       "    <tr>\n",
       "      <th>2</th>\n",
       "      <td>0.358535</td>\n",
       "      <td>0.155053</td>\n",
       "      <td>health</td>\n",
       "    </tr>\n",
       "    <tr>\n",
       "      <th>3</th>\n",
       "      <td>0.344865</td>\n",
       "      <td>0.370781</td>\n",
       "      <td>imports</td>\n",
       "    </tr>\n",
       "    <tr>\n",
       "      <th>4</th>\n",
       "      <td>0.380041</td>\n",
       "      <td>0.128384</td>\n",
       "      <td>income</td>\n",
       "    </tr>\n",
       "  </tbody>\n",
       "</table>\n",
       "</div>"
      ],
      "text/plain": [
       "        PC1       PC2     Feature\n",
       "0 -0.316392  0.476267  child_mort\n",
       "1  0.342887  0.397311     exports\n",
       "2  0.358535  0.155053      health\n",
       "3  0.344865  0.370781     imports\n",
       "4  0.380041  0.128384      income"
      ]
     },
     "execution_count": 29,
     "metadata": {},
     "output_type": "execute_result"
    }
   ],
   "source": [
    "#Storing the first two PCA componenets in a dataframe\n",
    "colnames = list(X.columns)\n",
    "pcs_df = pd.DataFrame({'PC1':pca.components_[0],'PC2':pca.components_[1], 'Feature':colnames})\n",
    "pcs_df.head()"
   ]
  },
  {
   "cell_type": "code",
   "execution_count": 30,
   "metadata": {},
   "outputs": [
    {
     "data": {
      "image/png": "[encoded data removed]",
      "text/plain": [
       "<Figure size 576x576 with 1 Axes>"
      ]
     },
     "metadata": {
      "needs_background": "light"
     },
     "output_type": "display_data"
    }
   ],
   "source": [
    "# Let's plot them to visualise how these features are loaded\n",
    "%matplotlib inline\n",
    "fig = plt.figure(figsize = (8,8))\n",
    "plt.scatter(pcs_df.PC1, pcs_df.PC2)\n",
    "plt.xlabel('Principal Component 1')\n",
    "plt.ylabel('Principal Component 2')\n",
    "for i, txt in enumerate(pcs_df.Feature):\n",
    "    plt.annotate(txt, (pcs_df.PC1[i],pcs_df.PC2[i]))\n",
    "plt.tight_layout()\n",
    "plt.show()"
   ]
  },
  {
   "cell_type": "code",
   "execution_count": 31,
   "metadata": {},
   "outputs": [
    {
     "data": {
      "text/plain": [
       "array([5.89372984e-01, 1.84451685e-01, 9.91147170e-02, 6.07227801e-02,\n",
       "       3.02917253e-02, 2.45982702e-02, 9.39743701e-03, 1.55641971e-03,\n",
       "       4.93981394e-04])"
      ]
     },
     "execution_count": 31,
     "metadata": {},
     "output_type": "execute_result"
    }
   ],
   "source": [
    "pca.explained_variance_ratio_"
   ]
  },
  {
   "cell_type": "code",
   "execution_count": 32,
   "metadata": {},
   "outputs": [
    {
     "data": {
      "image/png": "[encoded data removed]",
      "text/plain": [
       "<Figure size 864x576 with 1 Axes>"
      ]
     },
     "metadata": {
      "needs_background": "light"
     },
     "output_type": "display_data"
    }
   ],
   "source": [
    "#Making the screeplot - plotting the cumulative variance against the number of components\n",
    "%matplotlib inline\n",
    "fig = plt.figure(figsize = (12,8))\n",
    "plt.plot(np.cumsum(pca.explained_variance_ratio_))\n",
    "plt.xlabel('number of components')\n",
    "plt.ylabel('cumulative explained variance')\n",
    "plt.show()"
   ]
  },
  {
   "cell_type": "code",
   "execution_count": 33,
   "metadata": {},
   "outputs": [],
   "source": [
    "#From the graph we can see that first 4 components explain almost 95% of the variance"
   ]
  },
  {
   "cell_type": "code",
   "execution_count": 34,
   "metadata": {},
   "outputs": [],
   "source": [
    "#Finally let's go ahead and do dimensionality reduction using the four Principal Components\n",
    "from sklearn.decomposition import IncrementalPCA\n",
    "pca_final = IncrementalPCA(n_components=4)"
   ]
  },
  {
   "cell_type": "code",
   "execution_count": 35,
   "metadata": {},
   "outputs": [
    {
     "data": {
      "text/plain": [
       "(167, 4)"
      ]
     },
     "execution_count": 35,
     "metadata": {},
     "output_type": "execute_result"
    }
   ],
   "source": [
    "df_pca = pca_final.fit_transform(X)\n",
    "df_pca.shape"
   ]
  },
  {
   "cell_type": "code",
   "execution_count": 36,
   "metadata": {},
   "outputs": [
    {
     "data": {
      "text/plain": [
       "array([[-2.62874118e+00,  1.46767135e+00, -5.44861004e-01,\n",
       "         2.36555663e-01],\n",
       "       [-2.37738558e-02, -1.43151051e+00, -9.05242609e-03,\n",
       "        -4.41593143e-01],\n",
       "       [-4.57882953e-01, -6.76758610e-01,  9.64949591e-01,\n",
       "        -1.75860279e-01],\n",
       "       [-2.71541431e+00,  2.16949335e+00,  5.96001416e-01,\n",
       "         4.37602700e-01],\n",
       "       [ 6.46831716e-01, -1.02342010e+00, -2.43438161e-01,\n",
       "        -2.66711273e-01],\n",
       "       [ 3.63375066e-02, -6.82569373e-01,  1.46096670e+00,\n",
       "         6.58696223e-02],\n",
       "       [-3.33271825e-01, -1.27519742e+00,  1.90199898e-01,\n",
       "        -4.99931827e-01],\n",
       "       [ 3.17481317e+00, -2.37658420e-01, -1.68034623e-01,\n",
       "         1.66468894e+00],\n",
       "       [ 3.80668849e+00,  2.61826282e-01, -2.96444558e-01,\n",
       "         9.71483404e-01],\n",
       "       [-4.66073698e-01, -4.92579135e-01,  6.06780578e-01,\n",
       "        -2.57741740e-01],\n",
       "       [ 1.49508322e+00, -4.24607534e-01, -5.56127361e-01,\n",
       "         2.24293753e-01],\n",
       "       [ 1.46688131e+00, -3.24757667e-01,  4.25272330e-01,\n",
       "        -1.17610315e-01],\n",
       "       [-1.01215882e+00, -7.12307272e-01, -1.05304953e-01,\n",
       "        -3.85599365e-01],\n",
       "       [ 8.41984706e-01, -1.00687378e+00, -4.12313179e-01,\n",
       "        -1.46078401e-01],\n",
       "       [-1.44913743e-02, -9.83482246e-01,  8.91678006e-01,\n",
       "        -5.03612119e-01],\n",
       "       [ 3.94922481e+00,  8.35146419e-01, -2.94282777e-01,\n",
       "         2.43160931e-01],\n",
       "       [-4.02862973e-01, -9.21722625e-01, -4.93398631e-01,\n",
       "        -3.68943683e-01],\n",
       "       [-2.35791727e+00,  1.16972035e+00, -1.23825584e+00,\n",
       "         2.37972032e-01],\n",
       "       [-7.13922102e-01, -7.68421899e-01, -1.23584607e-01,\n",
       "        -3.61714255e-01],\n",
       "       [-1.01587430e+00, -4.27897945e-01,  5.82317006e-02,\n",
       "        -2.03701863e-01],\n",
       "       [ 2.50451665e-01, -1.69556017e+00, -2.38128149e-01,\n",
       "        -4.60853344e-01],\n",
       "       [-1.12616581e+00,  3.99736049e-01, -2.37054405e-01,\n",
       "        -1.37149264e-01],\n",
       "       [ 1.65676144e-01, -1.01579915e+00,  2.73430207e-01,\n",
       "         2.65038614e-02],\n",
       "       [ 2.69060658e+00,  3.75697979e-01,  1.61733514e+00,\n",
       "         3.05792032e-01],\n",
       "       [ 2.78791426e-01, -1.31895522e+00, -3.13930074e-01,\n",
       "        -4.27491302e-01],\n",
       "       [-2.74435651e+00,  1.66212253e+00, -8.44210449e-01,\n",
       "         3.26254098e-01],\n",
       "       [-2.75530088e+00,  1.62395017e+00, -2.94769537e-01,\n",
       "         3.15581754e-01],\n",
       "       [-1.17642199e+00, -4.93137564e-01, -5.67978090e-01,\n",
       "        -3.46319728e-01],\n",
       "       [-2.43258334e+00,  1.28596612e+00, -1.22114931e+00,\n",
       "         1.94230713e-01],\n",
       "       [ 3.38757472e+00, -6.51686300e-02, -9.86562355e-02,\n",
       "         1.56957302e+00],\n",
       "       [-5.23080446e-01, -9.77837544e-01, -5.61884117e-01,\n",
       "        -3.65837558e-01],\n",
       "       [-3.22843365e+00,  2.17620947e+00, -1.60873013e+00,\n",
       "         2.53774442e-01],\n",
       "       [-3.17720460e+00,  2.35270692e+00, -1.07470349e+00,\n",
       "         5.39025312e-01],\n",
       "       [ 6.89382146e-01, -1.11378374e+00,  4.97044934e-01,\n",
       "        -6.41759801e-02],\n",
       "       [-1.29846363e-01, -1.36179005e+00,  1.80154892e-01,\n",
       "        -4.35514716e-01],\n",
       "       [-1.49940817e-02, -1.29093135e+00, -8.59466964e-02,\n",
       "        -2.27927447e-01],\n",
       "       [-1.94408784e+00,  6.04041129e-01, -7.67949084e-01,\n",
       "         8.67399647e-02],\n",
       "       [-3.10671267e+00,  2.16622476e+00,  3.56451252e-01,\n",
       "         4.33939170e-01],\n",
       "       [-2.04189119e+00,  1.08332676e+00,  7.15310378e-01,\n",
       "         3.65871551e-02],\n",
       "       [ 4.28625544e-01, -1.37286020e+00,  2.66001272e-01,\n",
       "        -1.55595936e-01],\n",
       "       [-2.56549284e+00,  1.49511988e+00, -9.53432440e-01,\n",
       "         2.13049006e-01],\n",
       "       [ 8.43291610e-01, -1.26065769e+00, -2.64577086e-01,\n",
       "        -1.66759466e-01],\n",
       "       [ 2.30670505e+00, -5.49063889e-01, -6.04605813e-02,\n",
       "        -1.21012310e-01],\n",
       "       [ 1.66916308e+00, -8.66141354e-01, -4.30379842e-01,\n",
       "        -2.49546811e-01],\n",
       "       [ 4.36629147e+00,  9.25648446e-01, -2.24771930e-01,\n",
       "         1.49775992e+00],\n",
       "       [-3.67606137e-01, -8.12484997e-01, -6.78033390e-02,\n",
       "        -1.75383849e-01],\n",
       "       [-3.03322942e-01, -9.73779572e-01,  1.77999801e-01,\n",
       "        -1.94602221e-01],\n",
       "       [-8.35202319e-01, -5.30822657e-01,  2.56467950e-01,\n",
       "        -1.91245312e-01],\n",
       "       [-3.37107536e-01, -1.21725228e+00, -2.76559699e-01,\n",
       "        -3.84104097e-01],\n",
       "       [-1.05009766e+00,  2.69390096e+00,  1.05754944e+00,\n",
       "         4.24201630e-01],\n",
       "       [-1.94315288e+00,  4.90720856e-01, -3.71308418e-02,\n",
       "        -4.62519633e-02],\n",
       "       [ 1.06123258e+00, -9.24383983e-01, -1.90791326e-01,\n",
       "        -4.55038723e-01],\n",
       "       [-7.61034745e-01, -5.81452692e-01, -3.75498351e-01,\n",
       "        -4.01602123e-01],\n",
       "       [ 3.19429221e+00,  2.80320060e-03, -3.06231466e-01,\n",
       "         9.86425876e-01],\n",
       "       [ 2.88652402e+00, -2.96798658e-01, -2.55044662e-01,\n",
       "         1.47258117e+00],\n",
       "       [-1.27814029e+00,  8.49846644e-01,  5.17198125e-01,\n",
       "         1.21084117e-01],\n",
       "       [-2.09934767e+00,  8.23289404e-01, -7.48007849e-01,\n",
       "         2.20504085e-01],\n",
       "       [-3.61002787e-01, -1.16531744e+00,  2.34340628e-01,\n",
       "        -4.36307239e-01],\n",
       "       [ 3.29225975e+00, -1.54676988e-01, -2.79772119e-01,\n",
       "         1.12096739e+00],\n",
       "       [-1.99644130e+00,  7.48778543e-01,  3.67237931e-01,\n",
       "        -8.94824125e-03],\n",
       "       [ 1.92587936e+00, -1.01433455e+00, -2.16497888e-01,\n",
       "         6.03892504e-01],\n",
       "       [-8.61145980e-02, -1.03755269e+00, -5.04589671e-01,\n",
       "        -3.19520911e-01],\n",
       "       [-8.56148895e-01, -5.35904762e-01, -2.33311272e-01,\n",
       "        -1.62952227e-01],\n",
       "       [-2.70532450e+00,  1.61082126e+00,  3.42029762e-02,\n",
       "         2.21911190e-01],\n",
       "       [-2.60134317e+00,  1.40407763e+00, -1.19462025e+00,\n",
       "         1.72665295e-01],\n",
       "       [-9.30112526e-01, -4.32663168e-01, -3.00889509e-01,\n",
       "        -3.80919254e-01],\n",
       "       [-3.92637517e+00,  3.03614789e+00, -1.79346926e+00,\n",
       "         6.80477416e-02],\n",
       "       [ 1.04791748e+00, -9.93117196e-01, -1.64968163e-01,\n",
       "        -5.34671309e-01],\n",
       "       [ 3.09228949e+00,  1.68744610e-01,  1.74654356e-01,\n",
       "         7.57249054e-01],\n",
       "       [-1.26172012e+00, -2.73277604e-01, -7.07999649e-02,\n",
       "        -3.01132818e-01],\n",
       "       [-8.40562063e-01, -5.66516961e-01,  7.11449994e-01,\n",
       "        -3.12616436e-01],\n",
       "       [-7.89254081e-02, -9.72003555e-01,  1.01283957e+00,\n",
       "        -2.44483494e-01],\n",
       "       [-1.19456251e+00,  3.63646097e-01,  6.73315355e-01,\n",
       "         1.37296258e-01],\n",
       "       [ 4.64596939e+00,  1.39733381e+00, -7.51604141e-01,\n",
       "        -3.89344372e-01],\n",
       "       [ 1.77837552e+00, -3.95150647e-01, -1.48491567e-01,\n",
       "         6.29043284e-01],\n",
       "       [ 2.54759396e+00, -7.67376015e-01, -2.00437224e-01,\n",
       "         9.31518289e-01],\n",
       "       [-2.93374056e-01, -1.07304641e+00,  3.83574167e-01,\n",
       "        -3.93006865e-01],\n",
       "       [ 2.85369596e+00, -8.65181476e-01, -3.96530487e-01,\n",
       "         1.52082738e+00],\n",
       "       [-5.21837562e-01, -6.40970047e-01,  2.14033630e-01,\n",
       "        -1.35204714e-01],\n",
       "       [-3.55855095e-01, -2.23324475e-01,  1.16196580e+00,\n",
       "        -1.48338022e-01],\n",
       "       [-1.73241561e+00,  2.81231151e-01, -8.69732930e-01,\n",
       "        -5.19617812e-02],\n",
       "       [-1.66247648e+00,  2.34138871e-01, -9.63817207e-01,\n",
       "        -1.33781286e-01],\n",
       "       [ 2.77480009e+00,  4.16351189e-01,  1.07732716e+00,\n",
       "         2.70311280e-01],\n",
       "       [-1.08882183e+00, -5.47481569e-01,  1.47301427e-01,\n",
       "        -3.37019156e-01],\n",
       "       [-1.63274900e+00,  2.38929650e-01, -2.12772774e-01,\n",
       "        -1.79588052e-01],\n",
       "       [ 6.63802274e-01, -1.20727192e+00, -4.87712884e-01,\n",
       "        -4.20950445e-01],\n",
       "       [ 6.43996544e-01, -1.49640180e+00, -2.65829938e-01,\n",
       "        -3.47743291e-01],\n",
       "       [-2.42643050e+00,  1.15843236e+00, -1.16273186e+00,\n",
       "        -1.89500740e-01],\n",
       "       [-2.25201459e+00,  9.31471993e-01, -7.63025212e-01,\n",
       "         1.03013700e-01],\n",
       "       [ 4.90253135e-01, -5.18273969e-01,  9.53172746e-01,\n",
       "        -1.63086267e-01],\n",
       "       [ 7.74866753e-01, -1.00288560e+00, -1.92635107e-01,\n",
       "        -4.33149469e-01],\n",
       "       [ 1.25957518e+01,  8.19515323e+00, -5.69471023e-01,\n",
       "        -4.57349016e+00],\n",
       "       [ 8.24836943e-02, -1.46504768e+00, -2.41438660e-01,\n",
       "        -5.00695864e-01],\n",
       "       [-1.99138919e+00,  5.52216357e-01, -3.35356581e-01,\n",
       "        -3.92107805e-02],\n",
       "       [-2.70175742e+00,  1.49329437e+00, -3.60307650e-01,\n",
       "         1.33810981e-01],\n",
       "       [ 4.24560330e-01, -8.47262980e-01,  2.69560192e-01,\n",
       "        -4.56345098e-01],\n",
       "       [ 2.28649865e-01, -1.18091477e+00, -1.51927558e-01,\n",
       "        -4.26671421e-01],\n",
       "       [-2.93675670e+00,  2.00867787e+00, -1.13384493e+00,\n",
       "         5.07119176e-01],\n",
       "       [ 2.62451412e+00,  7.41720681e-02, -3.72146915e-02,\n",
       "        -1.27054284e+00],\n",
       "       [-2.10882398e+00,  1.04091210e+00,  5.90019190e-01,\n",
       "         1.91660613e-01],\n",
       "       [ 3.09589207e-01, -1.18180433e+00, -3.42163032e-01,\n",
       "        -4.45779983e-01],\n",
       "       [-1.11286593e+00, -2.13324618e-01, -5.54981351e-01,\n",
       "        -1.70882190e-01],\n",
       "       [-5.11164431e-01, -1.23257767e+00,  4.01479565e-01,\n",
       "        -6.20100156e-01],\n",
       "       [-1.26609142e+00,  7.60725757e-02,  2.76306519e+00,\n",
       "        -3.29808891e-01],\n",
       "       [ 3.53524448e-01, -1.40498004e+00, -2.28038145e-01,\n",
       "        -3.61206278e-01],\n",
       "       [-5.46383221e-01, -9.77974417e-01, -5.11904032e-01,\n",
       "        -3.22459627e-01],\n",
       "       [-2.72322802e+00,  1.54224180e+00, -7.78567380e-01,\n",
       "         2.00898128e-01],\n",
       "       [-1.26103191e+00, -3.57689675e-01, -2.45118157e-01,\n",
       "        -3.20329390e-01],\n",
       "       [-1.33114535e+00,  4.14606581e-01, -7.57063808e-01,\n",
       "        -1.24405282e-01],\n",
       "       [-1.24994627e+00, -4.06617085e-01,  5.48676200e-01,\n",
       "        -3.53164751e-01],\n",
       "       [ 4.48243176e+00,  9.91083891e-01, -3.98120565e-01,\n",
       "         7.62935082e-01],\n",
       "       [ 2.20215429e+00, -4.53714259e-01,  1.15887097e-02,\n",
       "         9.52029446e-01],\n",
       "       [-3.05322722e+00,  2.10250853e+00, -1.30716186e+00,\n",
       "         5.94026227e-01],\n",
       "       [-3.91954468e+00,  3.81353581e+00,  7.84430605e+00,\n",
       "         5.74556460e-01],\n",
       "       [ 5.83181138e+00,  1.66469481e+00,  1.08559033e-01,\n",
       "         2.69050435e+00],\n",
       "       [ 1.04882882e+00, -2.74753594e-02,  1.18820491e+00,\n",
       "         8.42065979e-03],\n",
       "       [-1.85677770e+00,  5.66058422e-01, -1.03867146e-01,\n",
       "        -5.92491081e-03],\n",
       "       [ 3.00534286e-01, -8.78653878e-01, -2.00596266e-01,\n",
       "        -2.69610656e-01],\n",
       "       [-4.87819868e-01, -9.17745217e-01, -1.03715959e-02,\n",
       "        -3.24089456e-01],\n",
       "       [-1.81095449e-01, -1.16221779e+00,  8.61540989e-02,\n",
       "        -2.42643619e-01],\n",
       "       [-9.27242405e-01, -6.00048799e-01, -3.45443329e-01,\n",
       "        -2.75011079e-01],\n",
       "       [ 8.51813243e-01, -1.28411286e+00, -1.65465338e-01,\n",
       "        -2.26302787e-01],\n",
       "       [ 1.75492684e+00, -1.08285474e+00, -2.26593090e-01,\n",
       "         3.67422193e-01],\n",
       "       [ 5.11613125e+00,  1.45871375e+00,  1.11710569e+00,\n",
       "         8.19939096e-01],\n",
       "       [ 2.82068795e-01, -1.24041993e+00, -8.12730354e-02,\n",
       "        -3.38405168e-01],\n",
       "       [ 1.41484467e-01, -7.95157017e-01,  8.18957544e-01,\n",
       "        -2.06637132e-01],\n",
       "       [-1.74352960e+00,  2.58503172e-01, -8.04080153e-01,\n",
       "        -2.25441544e-02],\n",
       "       [-8.47375867e-01, -4.93528123e-01, -5.29314952e-01,\n",
       "        -8.46869256e-02],\n",
       "       [ 9.09513734e-01,  3.34113847e-02,  1.28458473e+00,\n",
       "         2.51252432e-01],\n",
       "       [-1.85737489e+00,  4.93264644e-01, -9.16386416e-01,\n",
       "         7.69294727e-02],\n",
       "       [ 1.84703166e-01, -1.42988300e+00,  1.27865360e-01,\n",
       "        -4.04414718e-01],\n",
       "       [ 6.64861202e-01, -7.68315020e-01, -8.35167686e-01,\n",
       "        -6.62130950e-01],\n",
       "       [-3.21491940e+00,  2.31559620e+00, -1.27702581e-01,\n",
       "         3.51248964e-01],\n",
       "       [ 6.56275602e+00,  2.90489680e+00, -2.23918034e-01,\n",
       "        -3.48585547e+00],\n",
       "       [ 1.40552303e+00, -7.88561178e-01, -3.38362014e-01,\n",
       "        -3.88400485e-01],\n",
       "       [ 2.03510533e+00, -7.24704913e-01, -3.94241876e-01,\n",
       "        -7.71269688e-02],\n",
       "       [-1.51394599e+00,  1.22429032e-02, -3.49530227e-01,\n",
       "        -1.90505559e-01],\n",
       "       [-1.17425676e+00,  3.54636959e-01, -5.32495285e-01,\n",
       "        -9.41972918e-02],\n",
       "       [ 1.75091964e+00, -1.01935355e+00,  8.02687466e-02,\n",
       "        -9.16072045e-02],\n",
       "       [ 2.23832495e+00, -9.98376488e-01, -2.01016495e-01,\n",
       "         7.07194792e-01],\n",
       "       [-5.44729360e-01, -9.50298496e-01,  1.58062524e+00,\n",
       "        -3.96057136e-01],\n",
       "       [-2.25724864e-01, -9.85196810e-01, -1.62925822e-01,\n",
       "        -4.01602864e-01],\n",
       "       [-2.01135992e+00,  8.46198404e-01,  6.95029781e-01,\n",
       "         1.47089945e-01],\n",
       "       [-1.97575421e-01, -5.66515415e-01,  3.80557404e-02,\n",
       "        -1.97292060e-01],\n",
       "       [ 3.79711463e+00,  3.85746840e-01, -2.70167989e-01,\n",
       "         1.15305898e+00],\n",
       "       [ 6.24796893e+00,  1.85284370e+00, -5.11879054e-01,\n",
       "         1.57479139e+00],\n",
       "       [-1.37290155e+00, -1.66721686e-01,  2.84384848e-01,\n",
       "        -1.87607066e-01],\n",
       "       [-2.27137559e+00,  1.00401448e+00, -3.98846821e-01,\n",
       "         1.38674965e-01],\n",
       "       [ 1.72919501e-01, -1.39754099e+00, -4.98514282e-04,\n",
       "        -5.21834636e-01],\n",
       "       [-2.00224627e+00,  1.08202453e+00,  1.38269396e+00,\n",
       "         4.36575127e-01],\n",
       "       [-2.23769269e+00,  9.02903749e-01, -1.18536244e+00,\n",
       "         7.17841056e-02],\n",
       "       [-8.56162714e-01, -5.45100879e-01, -3.67672277e-01,\n",
       "        -1.75778553e-01],\n",
       "       [-6.26836648e-02, -1.28088168e+00, -7.80680553e-02,\n",
       "        -3.88804905e-01],\n",
       "       [ 3.27044697e-01, -1.06372973e+00,  2.65351619e-01,\n",
       "        -3.84428802e-02],\n",
       "       [-8.92802791e-01, -1.89965871e-01, -6.15669342e-01,\n",
       "        -2.51520090e-01],\n",
       "       [-2.61420704e+00,  1.45807407e+00, -4.07977083e-01,\n",
       "         2.71816822e-01],\n",
       "       [-3.71912252e-01, -1.15894661e+00,  6.65467682e-01,\n",
       "        -5.52674644e-01],\n",
       "       [ 2.68186985e+00,  5.39725636e-01,  9.59377024e-01,\n",
       "        -3.37257770e-01],\n",
       "       [ 2.59962640e+00, -3.65847981e-01, -1.78148784e-01,\n",
       "         1.05065922e+00],\n",
       "       [ 3.77609205e+00,  1.42196313e-01, -4.01482811e-01,\n",
       "         3.18607310e+00],\n",
       "       [ 4.54195125e-01, -1.09591601e+00,  4.77285918e-02,\n",
       "        -1.94265602e-02],\n",
       "       [-1.02868499e+00, -5.65926314e-01,  7.53652097e-01,\n",
       "        -3.87716709e-01],\n",
       "       [-1.17219876e+00, -2.81328255e-01, -6.60120778e-01,\n",
       "        -2.83974045e-01],\n",
       "       [-3.12115066e-01, -1.68095457e-02,  3.65015925e+00,\n",
       "         3.44299592e-02],\n",
       "       [-5.92512430e-01, -1.08105567e+00,  5.24865879e-01,\n",
       "        -5.06591621e-01],\n",
       "       [-1.79732367e+00,  5.83977783e-01,  1.17710187e+00,\n",
       "         5.21622575e-02],\n",
       "       [-2.63747022e+00,  1.56677832e+00, -1.76886709e-01,\n",
       "         1.62463909e-01]])"
      ]
     },
     "execution_count": 36,
     "metadata": {},
     "output_type": "execute_result"
    }
   ],
   "source": [
    "df_pca"
   ]
  },
  {
   "cell_type": "code",
   "execution_count": 37,
   "metadata": {},
   "outputs": [],
   "source": [
    "#Creating a transpose so that the each column is properly arranged\n",
    "pc = np.transpose(df_pca)"
   ]
  },
  {
   "cell_type": "code",
   "execution_count": 38,
   "metadata": {},
   "outputs": [],
   "source": [
    "pcs_df2 = pd.DataFrame({'PC1':pc[0],'PC2':pc[1]})"
   ]
  },
  {
   "cell_type": "code",
   "execution_count": 39,
   "metadata": {},
   "outputs": [
    {
     "data": {
      "text/html": [
       "<div>\n",
       "<style scoped>\n",
       "    .dataframe tbody tr th:only-of-type {\n",
       "        vertical-align: middle;\n",
       "    }\n",
       "\n",
       "    .dataframe tbody tr th {\n",
       "        vertical-align: top;\n",
       "    }\n",
       "\n",
       "    .dataframe thead th {\n",
       "        text-align: right;\n",
       "    }\n",
       "</style>\n",
       "<table border=\"1\" class=\"dataframe\">\n",
       "  <thead>\n",
       "    <tr style=\"text-align: right;\">\n",
       "      <th></th>\n",
       "      <th>PC1</th>\n",
       "      <th>PC2</th>\n",
       "    </tr>\n",
       "  </thead>\n",
       "  <tbody>\n",
       "    <tr>\n",
       "      <th>0</th>\n",
       "      <td>-2.628741</td>\n",
       "      <td>1.467671</td>\n",
       "    </tr>\n",
       "    <tr>\n",
       "      <th>1</th>\n",
       "      <td>-0.023774</td>\n",
       "      <td>-1.431511</td>\n",
       "    </tr>\n",
       "    <tr>\n",
       "      <th>2</th>\n",
       "      <td>-0.457883</td>\n",
       "      <td>-0.676759</td>\n",
       "    </tr>\n",
       "    <tr>\n",
       "      <th>3</th>\n",
       "      <td>-2.715414</td>\n",
       "      <td>2.169493</td>\n",
       "    </tr>\n",
       "    <tr>\n",
       "      <th>4</th>\n",
       "      <td>0.646832</td>\n",
       "      <td>-1.023420</td>\n",
       "    </tr>\n",
       "  </tbody>\n",
       "</table>\n",
       "</div>"
      ],
      "text/plain": [
       "        PC1       PC2\n",
       "0 -2.628741  1.467671\n",
       "1 -0.023774 -1.431511\n",
       "2 -0.457883 -0.676759\n",
       "3 -2.715414  2.169493\n",
       "4  0.646832 -1.023420"
      ]
     },
     "execution_count": 39,
     "metadata": {},
     "output_type": "execute_result"
    }
   ],
   "source": [
    "pcs_df2.head()"
   ]
  },
  {
   "cell_type": "code",
   "execution_count": 40,
   "metadata": {},
   "outputs": [
    {
     "data": {
      "image/png": "[encoded data removed]",
      "text/plain": [
       "<Figure size 432x288 with 1 Axes>"
      ]
     },
     "metadata": {
      "needs_background": "light"
     },
     "output_type": "display_data"
    }
   ],
   "source": [
    "## Let's perform Outlier Analysis\n",
    "#Let's do the outlier analysis before proceeding to clustering\n",
    "#We can reassign the outliers to the clusters later\n",
    "plt.boxplot(pcs_df2.PC1)\n",
    "Q1 = pcs_df2.PC1.quantile(0.05)\n",
    "Q3 = pcs_df2.PC1.quantile(0.95)\n",
    "IQR = Q3 - Q1\n",
    "pcs_df3 = pcs_df2[(pcs_df2.PC1 >= Q1) & (pcs_df2.PC1 <= Q3)]"
   ]
  },
  {
   "cell_type": "code",
   "execution_count": 41,
   "metadata": {},
   "outputs": [
    {
     "data": {
      "image/png": "[encoded data removed]",
      "text/plain": [
       "<Figure size 432x288 with 1 Axes>"
      ]
     },
     "metadata": {
      "needs_background": "light"
     },
     "output_type": "display_data"
    }
   ],
   "source": [
    "plt.boxplot(pcs_df2.PC2)\n",
    "Q1 = pcs_df2.PC2.quantile(0.05)\n",
    "Q3 = pcs_df2.PC2.quantile(0.95)\n",
    "IQR = Q3 - Q1\n",
    "pcs_df3 = pcs_df2[(pcs_df2.PC2 >= Q1) & (pcs_df2.PC2 <= Q3)]"
   ]
  },
  {
   "cell_type": "code",
   "execution_count": 42,
   "metadata": {},
   "outputs": [
    {
     "data": {
      "text/plain": [
       "(149, 2)"
      ]
     },
     "execution_count": 42,
     "metadata": {},
     "output_type": "execute_result"
    }
   ],
   "source": [
    "pcs_df3.shape"
   ]
  },
  {
   "cell_type": "code",
   "execution_count": 43,
   "metadata": {},
   "outputs": [],
   "source": [
    "#Again we can see that we are losing many countries due to outliers.So we cant discard the outliers"
   ]
  },
  {
   "cell_type": "code",
   "execution_count": 44,
   "metadata": {},
   "outputs": [
    {
     "data": {
      "text/plain": [
       "<matplotlib.axes._subplots.AxesSubplot at 0xc10ded0>"
      ]
     },
     "execution_count": 44,
     "metadata": {},
     "output_type": "execute_result"
    },
    {
     "data": {
      "image/png": "[encoded data removed]",
      "text/plain": [
       "<Figure size 432x288 with 1 Axes>"
      ]
     },
     "metadata": {
      "needs_background": "light"
     },
     "output_type": "display_data"
    }
   ],
   "source": [
    "#Visualising the points on the PCs.\n",
    "sns.scatterplot(x='PC1',y='PC2',data=pcs_df2)"
   ]
  },
  {
   "cell_type": "code",
   "execution_count": 45,
   "metadata": {},
   "outputs": [],
   "source": [
    "#Calculating the Hopkins statistic\n",
    "from sklearn.neighbors import NearestNeighbors\n",
    "from random import sample\n",
    "from numpy.random import uniform\n",
    "import numpy as np\n",
    "from math import isnan\n",
    " \n",
    "def hopkins(X):\n",
    "    d = X.shape[1]\n",
    "    #d = len(vars) # columns\n",
    "    n = len(X) # rows\n",
    "    m = int(0.1 * n) \n",
    "    nbrs = NearestNeighbors(n_neighbors=1).fit(X.values)\n",
    " \n",
    "    rand_X = sample(range(0, n, 1), m)\n",
    " \n",
    "    ujd = []\n",
    "    wjd = []\n",
    "    for j in range(0, m):\n",
    "        u_dist, _ = nbrs.kneighbors(uniform(np.amin(X,axis=0),np.amax(X,axis=0),d).reshape(1, -1), 2, return_distance=True)\n",
    "        ujd.append(u_dist[0][1])\n",
    "        w_dist, _ = nbrs.kneighbors(X.iloc[rand_X[j]].values.reshape(1, -1), 2, return_distance=True)\n",
    "        wjd.append(w_dist[0][1])\n",
    " \n",
    "    H = sum(ujd) / (sum(ujd) + sum(wjd))\n",
    "    if isnan(H):\n",
    "        print(ujd, wjd)\n",
    "        H = 0\n",
    " \n",
    "    return H"
   ]
  },
  {
   "cell_type": "code",
   "execution_count": 46,
   "metadata": {},
   "outputs": [
    {
     "data": {
      "text/plain": [
       "0.9514129648763138"
      ]
     },
     "execution_count": 46,
     "metadata": {},
     "output_type": "execute_result"
    }
   ],
   "source": [
    "#Let's check the Hopkins measure\n",
    "hopkins(pcs_df2)"
   ]
  },
  {
   "cell_type": "code",
   "execution_count": 47,
   "metadata": {},
   "outputs": [],
   "source": [
    "#Since the value is > 0.5 the given dataset has a good tendency to form clusters."
   ]
  },
  {
   "cell_type": "code",
   "execution_count": 48,
   "metadata": {},
   "outputs": [],
   "source": [
    "dat3_1 = pcs_df2"
   ]
  },
  {
   "cell_type": "code",
   "execution_count": 49,
   "metadata": {},
   "outputs": [],
   "source": [
    "#First we'll do the silhouette score analysis\n",
    "from sklearn.metrics import silhouette_score\n",
    "sse_ = []\n",
    "for k in range(2, 10):\n",
    "    kmeans = KMeans(n_clusters=k).fit(dat3_1)\n",
    "    sse_.append([k, silhouette_score(dat3_1, kmeans.labels_)])"
   ]
  },
  {
   "cell_type": "code",
   "execution_count": 50,
   "metadata": {},
   "outputs": [
    {
     "data": {
      "image/png": "[encoded data removed]",
      "text/plain": [
       "<Figure size 432x288 with 1 Axes>"
      ]
     },
     "metadata": {
      "needs_background": "light"
     },
     "output_type": "display_data"
    }
   ],
   "source": [
    "plt.plot(pd.DataFrame(sse_)[0], pd.DataFrame(sse_)[1]);"
   ]
  },
  {
   "cell_type": "code",
   "execution_count": 51,
   "metadata": {},
   "outputs": [
    {
     "name": "stdout",
     "output_type": "stream",
     "text": [
      "For n_clusters=2, the silhouette score is 0.5427861650901051\n",
      "For n_clusters=3, the silhouette score is 0.553088679734956\n",
      "For n_clusters=4, the silhouette score is 0.5608437872728461\n",
      "For n_clusters=5, the silhouette score is 0.55196916140279\n",
      "For n_clusters=6, the silhouette score is 0.4966752050789741\n",
      "For n_clusters=7, the silhouette score is 0.4532908624334531\n",
      "For n_clusters=8, the silhouette score is 0.4647770627687843\n"
     ]
    }
   ],
   "source": [
    "# silhouette analysis\n",
    "range_n_clusters = [2, 3, 4, 5, 6, 7, 8]\n",
    "\n",
    "for num_clusters in range_n_clusters:\n",
    "    \n",
    "    # intialise kmeans\n",
    "    kmeans = KMeans(n_clusters=num_clusters, max_iter=50)\n",
    "    kmeans.fit(dat3_1)\n",
    "    \n",
    "    cluster_labels = kmeans.labels_\n",
    "    \n",
    "    # silhouette score\n",
    "    silhouette_avg = silhouette_score(dat3_1, cluster_labels)\n",
    "    print(\"For n_clusters={0}, the silhouette score is {1}\".format(num_clusters, silhouette_avg))\n",
    "    "
   ]
  },
  {
   "cell_type": "code",
   "execution_count": 52,
   "metadata": {},
   "outputs": [
    {
     "data": {
      "text/plain": [
       "[<matplotlib.lines.Line2D at 0xd3e96f0>]"
      ]
     },
     "execution_count": 52,
     "metadata": {},
     "output_type": "execute_result"
    },
    {
     "data": {
      "image/png": "[encoded data removed]",
      "text/plain": [
       "<Figure size 432x288 with 1 Axes>"
      ]
     },
     "metadata": {
      "needs_background": "light"
     },
     "output_type": "display_data"
    }
   ],
   "source": [
    "#Now let's proceed to the elbow curve method\n",
    "ssd = []\n",
    "for num_clusters in list(range(1,10)):\n",
    "    model_clus = KMeans(n_clusters = num_clusters, max_iter=50)\n",
    "    model_clus.fit(dat3_1)\n",
    "    ssd.append(model_clus.inertia_)\n",
    "\n",
    "plt.plot(ssd)"
   ]
  },
  {
   "cell_type": "code",
   "execution_count": 53,
   "metadata": {},
   "outputs": [],
   "source": [
    "# Here we're seeing a distinct bend at around 3 clusters"
   ]
  },
  {
   "cell_type": "code",
   "execution_count": 54,
   "metadata": {},
   "outputs": [
    {
     "data": {
      "image/png": "[encoded data removed]",
      "text/plain": [
       "<Figure size 432x288 with 1 Axes>"
      ]
     },
     "metadata": {
      "needs_background": "light"
     },
     "output_type": "display_data"
    }
   ],
   "source": [
    "# complete linkage\n",
    "mergings = linkage(dat3_1, method=\"complete\", metric='euclidean')\n",
    "dendrogram(mergings)\n",
    "plt.show()"
   ]
  },
  {
   "cell_type": "code",
   "execution_count": 55,
   "metadata": {},
   "outputs": [
    {
     "data": {
      "text/plain": [
       "KMeans(algorithm='auto', copy_x=True, init='k-means++', max_iter=50,\n",
       "       n_clusters=3, n_init=10, n_jobs=None, precompute_distances='auto',\n",
       "       random_state=50, tol=0.0001, verbose=0)"
      ]
     },
     "execution_count": 55,
     "metadata": {},
     "output_type": "execute_result"
    }
   ],
   "source": [
    "#Let's perform K means using K=3\n",
    "model_clus2 = KMeans(n_clusters = 3, max_iter=50,random_state = 50)\n",
    "model_clus2.fit(dat3_1)"
   ]
  },
  {
   "cell_type": "code",
   "execution_count": 56,
   "metadata": {},
   "outputs": [
    {
     "data": {
      "text/html": [
       "<div>\n",
       "<style scoped>\n",
       "    .dataframe tbody tr th:only-of-type {\n",
       "        vertical-align: middle;\n",
       "    }\n",
       "\n",
       "    .dataframe tbody tr th {\n",
       "        vertical-align: top;\n",
       "    }\n",
       "\n",
       "    .dataframe thead th {\n",
       "        text-align: right;\n",
       "    }\n",
       "</style>\n",
       "<table border=\"1\" class=\"dataframe\">\n",
       "  <thead>\n",
       "    <tr style=\"text-align: right;\">\n",
       "      <th></th>\n",
       "      <th>PC1</th>\n",
       "      <th>PC2</th>\n",
       "      <th>ClusterID</th>\n",
       "    </tr>\n",
       "  </thead>\n",
       "  <tbody>\n",
       "    <tr>\n",
       "      <th>0</th>\n",
       "      <td>-2.628741</td>\n",
       "      <td>1.467671</td>\n",
       "      <td>1</td>\n",
       "    </tr>\n",
       "    <tr>\n",
       "      <th>1</th>\n",
       "      <td>-0.023774</td>\n",
       "      <td>-1.431511</td>\n",
       "      <td>2</td>\n",
       "    </tr>\n",
       "    <tr>\n",
       "      <th>2</th>\n",
       "      <td>-0.457883</td>\n",
       "      <td>-0.676759</td>\n",
       "      <td>2</td>\n",
       "    </tr>\n",
       "    <tr>\n",
       "      <th>3</th>\n",
       "      <td>-2.715414</td>\n",
       "      <td>2.169493</td>\n",
       "      <td>1</td>\n",
       "    </tr>\n",
       "    <tr>\n",
       "      <th>4</th>\n",
       "      <td>0.646832</td>\n",
       "      <td>-1.023420</td>\n",
       "      <td>2</td>\n",
       "    </tr>\n",
       "    <tr>\n",
       "      <th>5</th>\n",
       "      <td>0.036338</td>\n",
       "      <td>-0.682569</td>\n",
       "      <td>2</td>\n",
       "    </tr>\n",
       "    <tr>\n",
       "      <th>6</th>\n",
       "      <td>-0.333272</td>\n",
       "      <td>-1.275197</td>\n",
       "      <td>2</td>\n",
       "    </tr>\n",
       "    <tr>\n",
       "      <th>7</th>\n",
       "      <td>3.174813</td>\n",
       "      <td>-0.237658</td>\n",
       "      <td>0</td>\n",
       "    </tr>\n",
       "    <tr>\n",
       "      <th>8</th>\n",
       "      <td>3.806688</td>\n",
       "      <td>0.261826</td>\n",
       "      <td>0</td>\n",
       "    </tr>\n",
       "    <tr>\n",
       "      <th>9</th>\n",
       "      <td>-0.466074</td>\n",
       "      <td>-0.492579</td>\n",
       "      <td>2</td>\n",
       "    </tr>\n",
       "    <tr>\n",
       "      <th>10</th>\n",
       "      <td>1.495083</td>\n",
       "      <td>-0.424608</td>\n",
       "      <td>2</td>\n",
       "    </tr>\n",
       "    <tr>\n",
       "      <th>11</th>\n",
       "      <td>1.466881</td>\n",
       "      <td>-0.324758</td>\n",
       "      <td>2</td>\n",
       "    </tr>\n",
       "    <tr>\n",
       "      <th>12</th>\n",
       "      <td>-1.012159</td>\n",
       "      <td>-0.712307</td>\n",
       "      <td>2</td>\n",
       "    </tr>\n",
       "    <tr>\n",
       "      <th>13</th>\n",
       "      <td>0.841985</td>\n",
       "      <td>-1.006874</td>\n",
       "      <td>2</td>\n",
       "    </tr>\n",
       "    <tr>\n",
       "      <th>14</th>\n",
       "      <td>-0.014491</td>\n",
       "      <td>-0.983482</td>\n",
       "      <td>2</td>\n",
       "    </tr>\n",
       "    <tr>\n",
       "      <th>15</th>\n",
       "      <td>3.949225</td>\n",
       "      <td>0.835146</td>\n",
       "      <td>0</td>\n",
       "    </tr>\n",
       "    <tr>\n",
       "      <th>16</th>\n",
       "      <td>-0.402863</td>\n",
       "      <td>-0.921723</td>\n",
       "      <td>2</td>\n",
       "    </tr>\n",
       "    <tr>\n",
       "      <th>17</th>\n",
       "      <td>-2.357917</td>\n",
       "      <td>1.169720</td>\n",
       "      <td>1</td>\n",
       "    </tr>\n",
       "    <tr>\n",
       "      <th>18</th>\n",
       "      <td>-0.713922</td>\n",
       "      <td>-0.768422</td>\n",
       "      <td>2</td>\n",
       "    </tr>\n",
       "    <tr>\n",
       "      <th>19</th>\n",
       "      <td>-1.015874</td>\n",
       "      <td>-0.427898</td>\n",
       "      <td>2</td>\n",
       "    </tr>\n",
       "    <tr>\n",
       "      <th>20</th>\n",
       "      <td>0.250452</td>\n",
       "      <td>-1.695560</td>\n",
       "      <td>2</td>\n",
       "    </tr>\n",
       "    <tr>\n",
       "      <th>21</th>\n",
       "      <td>-1.126166</td>\n",
       "      <td>0.399736</td>\n",
       "      <td>1</td>\n",
       "    </tr>\n",
       "    <tr>\n",
       "      <th>22</th>\n",
       "      <td>0.165676</td>\n",
       "      <td>-1.015799</td>\n",
       "      <td>2</td>\n",
       "    </tr>\n",
       "    <tr>\n",
       "      <th>23</th>\n",
       "      <td>2.690607</td>\n",
       "      <td>0.375698</td>\n",
       "      <td>0</td>\n",
       "    </tr>\n",
       "    <tr>\n",
       "      <th>24</th>\n",
       "      <td>0.278791</td>\n",
       "      <td>-1.318955</td>\n",
       "      <td>2</td>\n",
       "    </tr>\n",
       "    <tr>\n",
       "      <th>25</th>\n",
       "      <td>-2.744357</td>\n",
       "      <td>1.662123</td>\n",
       "      <td>1</td>\n",
       "    </tr>\n",
       "    <tr>\n",
       "      <th>26</th>\n",
       "      <td>-2.755301</td>\n",
       "      <td>1.623950</td>\n",
       "      <td>1</td>\n",
       "    </tr>\n",
       "    <tr>\n",
       "      <th>27</th>\n",
       "      <td>-1.176422</td>\n",
       "      <td>-0.493138</td>\n",
       "      <td>2</td>\n",
       "    </tr>\n",
       "    <tr>\n",
       "      <th>28</th>\n",
       "      <td>-2.432583</td>\n",
       "      <td>1.285966</td>\n",
       "      <td>1</td>\n",
       "    </tr>\n",
       "    <tr>\n",
       "      <th>29</th>\n",
       "      <td>3.387575</td>\n",
       "      <td>-0.065169</td>\n",
       "      <td>0</td>\n",
       "    </tr>\n",
       "    <tr>\n",
       "      <th>...</th>\n",
       "      <td>...</td>\n",
       "      <td>...</td>\n",
       "      <td>...</td>\n",
       "    </tr>\n",
       "    <tr>\n",
       "      <th>137</th>\n",
       "      <td>-1.174257</td>\n",
       "      <td>0.354637</td>\n",
       "      <td>1</td>\n",
       "    </tr>\n",
       "    <tr>\n",
       "      <th>138</th>\n",
       "      <td>1.750920</td>\n",
       "      <td>-1.019354</td>\n",
       "      <td>2</td>\n",
       "    </tr>\n",
       "    <tr>\n",
       "      <th>139</th>\n",
       "      <td>2.238325</td>\n",
       "      <td>-0.998376</td>\n",
       "      <td>2</td>\n",
       "    </tr>\n",
       "    <tr>\n",
       "      <th>140</th>\n",
       "      <td>-0.544729</td>\n",
       "      <td>-0.950298</td>\n",
       "      <td>2</td>\n",
       "    </tr>\n",
       "    <tr>\n",
       "      <th>141</th>\n",
       "      <td>-0.225725</td>\n",
       "      <td>-0.985197</td>\n",
       "      <td>2</td>\n",
       "    </tr>\n",
       "    <tr>\n",
       "      <th>142</th>\n",
       "      <td>-2.011360</td>\n",
       "      <td>0.846198</td>\n",
       "      <td>1</td>\n",
       "    </tr>\n",
       "    <tr>\n",
       "      <th>143</th>\n",
       "      <td>-0.197575</td>\n",
       "      <td>-0.566515</td>\n",
       "      <td>2</td>\n",
       "    </tr>\n",
       "    <tr>\n",
       "      <th>144</th>\n",
       "      <td>3.797115</td>\n",
       "      <td>0.385747</td>\n",
       "      <td>0</td>\n",
       "    </tr>\n",
       "    <tr>\n",
       "      <th>145</th>\n",
       "      <td>6.247969</td>\n",
       "      <td>1.852844</td>\n",
       "      <td>0</td>\n",
       "    </tr>\n",
       "    <tr>\n",
       "      <th>146</th>\n",
       "      <td>-1.372902</td>\n",
       "      <td>-0.166722</td>\n",
       "      <td>2</td>\n",
       "    </tr>\n",
       "    <tr>\n",
       "      <th>147</th>\n",
       "      <td>-2.271376</td>\n",
       "      <td>1.004014</td>\n",
       "      <td>1</td>\n",
       "    </tr>\n",
       "    <tr>\n",
       "      <th>148</th>\n",
       "      <td>0.172920</td>\n",
       "      <td>-1.397541</td>\n",
       "      <td>2</td>\n",
       "    </tr>\n",
       "    <tr>\n",
       "      <th>149</th>\n",
       "      <td>-2.002246</td>\n",
       "      <td>1.082025</td>\n",
       "      <td>1</td>\n",
       "    </tr>\n",
       "    <tr>\n",
       "      <th>150</th>\n",
       "      <td>-2.237693</td>\n",
       "      <td>0.902904</td>\n",
       "      <td>1</td>\n",
       "    </tr>\n",
       "    <tr>\n",
       "      <th>151</th>\n",
       "      <td>-0.856163</td>\n",
       "      <td>-0.545101</td>\n",
       "      <td>2</td>\n",
       "    </tr>\n",
       "    <tr>\n",
       "      <th>152</th>\n",
       "      <td>-0.062684</td>\n",
       "      <td>-1.280882</td>\n",
       "      <td>2</td>\n",
       "    </tr>\n",
       "    <tr>\n",
       "      <th>153</th>\n",
       "      <td>0.327045</td>\n",
       "      <td>-1.063730</td>\n",
       "      <td>2</td>\n",
       "    </tr>\n",
       "    <tr>\n",
       "      <th>154</th>\n",
       "      <td>-0.892803</td>\n",
       "      <td>-0.189966</td>\n",
       "      <td>2</td>\n",
       "    </tr>\n",
       "    <tr>\n",
       "      <th>155</th>\n",
       "      <td>-2.614207</td>\n",
       "      <td>1.458074</td>\n",
       "      <td>1</td>\n",
       "    </tr>\n",
       "    <tr>\n",
       "      <th>156</th>\n",
       "      <td>-0.371912</td>\n",
       "      <td>-1.158947</td>\n",
       "      <td>2</td>\n",
       "    </tr>\n",
       "    <tr>\n",
       "      <th>157</th>\n",
       "      <td>2.681870</td>\n",
       "      <td>0.539726</td>\n",
       "      <td>0</td>\n",
       "    </tr>\n",
       "    <tr>\n",
       "      <th>158</th>\n",
       "      <td>2.599626</td>\n",
       "      <td>-0.365848</td>\n",
       "      <td>0</td>\n",
       "    </tr>\n",
       "    <tr>\n",
       "      <th>159</th>\n",
       "      <td>3.776092</td>\n",
       "      <td>0.142196</td>\n",
       "      <td>0</td>\n",
       "    </tr>\n",
       "    <tr>\n",
       "      <th>160</th>\n",
       "      <td>0.454195</td>\n",
       "      <td>-1.095916</td>\n",
       "      <td>2</td>\n",
       "    </tr>\n",
       "    <tr>\n",
       "      <th>161</th>\n",
       "      <td>-1.028685</td>\n",
       "      <td>-0.565926</td>\n",
       "      <td>2</td>\n",
       "    </tr>\n",
       "    <tr>\n",
       "      <th>162</th>\n",
       "      <td>-1.172199</td>\n",
       "      <td>-0.281328</td>\n",
       "      <td>2</td>\n",
       "    </tr>\n",
       "    <tr>\n",
       "      <th>163</th>\n",
       "      <td>-0.312115</td>\n",
       "      <td>-0.016810</td>\n",
       "      <td>2</td>\n",
       "    </tr>\n",
       "    <tr>\n",
       "      <th>164</th>\n",
       "      <td>-0.592512</td>\n",
       "      <td>-1.081056</td>\n",
       "      <td>2</td>\n",
       "    </tr>\n",
       "    <tr>\n",
       "      <th>165</th>\n",
       "      <td>-1.797324</td>\n",
       "      <td>0.583978</td>\n",
       "      <td>1</td>\n",
       "    </tr>\n",
       "    <tr>\n",
       "      <th>166</th>\n",
       "      <td>-2.637470</td>\n",
       "      <td>1.566778</td>\n",
       "      <td>1</td>\n",
       "    </tr>\n",
       "  </tbody>\n",
       "</table>\n",
       "<p>167 rows × 3 columns</p>\n",
       "</div>"
      ],
      "text/plain": [
       "          PC1       PC2  ClusterID\n",
       "0   -2.628741  1.467671          1\n",
       "1   -0.023774 -1.431511          2\n",
       "2   -0.457883 -0.676759          2\n",
       "3   -2.715414  2.169493          1\n",
       "4    0.646832 -1.023420          2\n",
       "..        ...       ...        ...\n",
       "162 -1.172199 -0.281328          2\n",
       "163 -0.312115 -0.016810          2\n",
       "164 -0.592512 -1.081056          2\n",
       "165 -1.797324  0.583978          1\n",
       "166 -2.637470  1.566778          1\n",
       "\n",
       "[167 rows x 3 columns]"
      ]
     },
     "execution_count": 56,
     "metadata": {},
     "output_type": "execute_result"
    }
   ],
   "source": [
    "#Assigning the cluster IDs \n",
    "dat4=pcs_df2\n",
    "dat4.index = pd.RangeIndex(len(dat4.index))\n",
    "dat_km = pd.concat([dat4, pd.Series(model_clus2.labels_)], axis=1)\n",
    "dat_km.columns = ['PC1', 'PC2','ClusterID']\n",
    "dat_km"
   ]
  },
  {
   "cell_type": "code",
   "execution_count": 57,
   "metadata": {},
   "outputs": [
    {
     "data": {
      "text/plain": [
       "<matplotlib.axes._subplots.AxesSubplot at 0xc025870>"
      ]
     },
     "execution_count": 57,
     "metadata": {},
     "output_type": "execute_result"
    },
    {
     "data": {
      "image/png": "[encoded data removed]",
      "text/plain": [
       "<Figure size 432x288 with 1 Axes>"
      ]
     },
     "metadata": {
      "needs_background": "light"
     },
     "output_type": "display_data"
    }
   ],
   "source": [
    "#Visualizing the clusters\n",
    "sns.scatterplot(x='PC1',y='PC2',hue='ClusterID',legend='full',data=dat_km)"
   ]
  },
  {
   "cell_type": "code",
   "execution_count": 58,
   "metadata": {},
   "outputs": [
    {
     "data": {
      "text/html": [
       "<div>\n",
       "<style scoped>\n",
       "    .dataframe tbody tr th:only-of-type {\n",
       "        vertical-align: middle;\n",
       "    }\n",
       "\n",
       "    .dataframe tbody tr th {\n",
       "        vertical-align: top;\n",
       "    }\n",
       "\n",
       "    .dataframe thead th {\n",
       "        text-align: right;\n",
       "    }\n",
       "</style>\n",
       "<table border=\"1\" class=\"dataframe\">\n",
       "  <thead>\n",
       "    <tr style=\"text-align: right;\">\n",
       "      <th></th>\n",
       "      <th>country</th>\n",
       "      <th>child_mort</th>\n",
       "      <th>exports</th>\n",
       "      <th>health</th>\n",
       "      <th>imports</th>\n",
       "      <th>income</th>\n",
       "      <th>inflation</th>\n",
       "      <th>life_expec</th>\n",
       "      <th>total_fer</th>\n",
       "      <th>gdpp</th>\n",
       "      <th>PC1</th>\n",
       "      <th>PC2</th>\n",
       "      <th>ClusterID</th>\n",
       "    </tr>\n",
       "  </thead>\n",
       "  <tbody>\n",
       "    <tr>\n",
       "      <th>0</th>\n",
       "      <td>Afghanistan</td>\n",
       "      <td>90.2</td>\n",
       "      <td>55.30</td>\n",
       "      <td>41.9174</td>\n",
       "      <td>248.297</td>\n",
       "      <td>1610</td>\n",
       "      <td>9.44</td>\n",
       "      <td>56.2</td>\n",
       "      <td>5.82</td>\n",
       "      <td>553</td>\n",
       "      <td>-2.628741</td>\n",
       "      <td>1.467671</td>\n",
       "      <td>1</td>\n",
       "    </tr>\n",
       "    <tr>\n",
       "      <th>1</th>\n",
       "      <td>Albania</td>\n",
       "      <td>16.6</td>\n",
       "      <td>1145.20</td>\n",
       "      <td>267.8950</td>\n",
       "      <td>1987.740</td>\n",
       "      <td>9930</td>\n",
       "      <td>4.49</td>\n",
       "      <td>76.3</td>\n",
       "      <td>1.65</td>\n",
       "      <td>4090</td>\n",
       "      <td>-0.023774</td>\n",
       "      <td>-1.431511</td>\n",
       "      <td>2</td>\n",
       "    </tr>\n",
       "    <tr>\n",
       "      <th>2</th>\n",
       "      <td>Algeria</td>\n",
       "      <td>27.3</td>\n",
       "      <td>1712.64</td>\n",
       "      <td>185.9820</td>\n",
       "      <td>1400.440</td>\n",
       "      <td>12900</td>\n",
       "      <td>16.10</td>\n",
       "      <td>76.5</td>\n",
       "      <td>2.89</td>\n",
       "      <td>4460</td>\n",
       "      <td>-0.457883</td>\n",
       "      <td>-0.676759</td>\n",
       "      <td>2</td>\n",
       "    </tr>\n",
       "    <tr>\n",
       "      <th>3</th>\n",
       "      <td>Angola</td>\n",
       "      <td>119.0</td>\n",
       "      <td>2199.19</td>\n",
       "      <td>100.6050</td>\n",
       "      <td>1514.370</td>\n",
       "      <td>5900</td>\n",
       "      <td>22.40</td>\n",
       "      <td>60.1</td>\n",
       "      <td>6.16</td>\n",
       "      <td>3530</td>\n",
       "      <td>-2.715414</td>\n",
       "      <td>2.169493</td>\n",
       "      <td>1</td>\n",
       "    </tr>\n",
       "    <tr>\n",
       "      <th>4</th>\n",
       "      <td>Antigua and Barbuda</td>\n",
       "      <td>10.3</td>\n",
       "      <td>5551.00</td>\n",
       "      <td>735.6600</td>\n",
       "      <td>7185.800</td>\n",
       "      <td>19100</td>\n",
       "      <td>1.44</td>\n",
       "      <td>76.8</td>\n",
       "      <td>2.13</td>\n",
       "      <td>12200</td>\n",
       "      <td>0.646832</td>\n",
       "      <td>-1.023420</td>\n",
       "      <td>2</td>\n",
       "    </tr>\n",
       "  </tbody>\n",
       "</table>\n",
       "</div>"
      ],
      "text/plain": [
       "               country  child_mort  exports    health   imports  income  \\\n",
       "0          Afghanistan        90.2    55.30   41.9174   248.297    1610   \n",
       "1              Albania        16.6  1145.20  267.8950  1987.740    9930   \n",
       "2              Algeria        27.3  1712.64  185.9820  1400.440   12900   \n",
       "3               Angola       119.0  2199.19  100.6050  1514.370    5900   \n",
       "4  Antigua and Barbuda        10.3  5551.00  735.6600  7185.800   19100   \n",
       "\n",
       "   inflation  life_expec  total_fer   gdpp       PC1       PC2  ClusterID  \n",
       "0       9.44        56.2       5.82    553 -2.628741  1.467671          1  \n",
       "1       4.49        76.3       1.65   4090 -0.023774 -1.431511          2  \n",
       "2      16.10        76.5       2.89   4460 -0.457883 -0.676759          2  \n",
       "3      22.40        60.1       6.16   3530 -2.715414  2.169493          1  \n",
       "4       1.44        76.8       2.13  12200  0.646832 -1.023420          2  "
      ]
     },
     "execution_count": 58,
     "metadata": {},
     "output_type": "execute_result"
    }
   ],
   "source": [
    "#Joining the data with the original data and PCA modified dataset\n",
    "dat5=pd.merge(df_notnormal,dat_km, left_index=True,right_index=True)\n",
    "dat5.head()"
   ]
  },
  {
   "cell_type": "code",
   "execution_count": 59,
   "metadata": {},
   "outputs": [],
   "source": [
    "#Analyzing the clusters"
   ]
  },
  {
   "cell_type": "code",
   "execution_count": 60,
   "metadata": {
    "scrolled": true
   },
   "outputs": [
    {
     "data": {
      "text/plain": [
       "<matplotlib.axes._subplots.AxesSubplot at 0xbfb0b10>"
      ]
     },
     "execution_count": 60,
     "metadata": {},
     "output_type": "execute_result"
    },
    {
     "data": {
      "image/png": "[encoded data removed]",
      "text/plain": [
       "<Figure size 432x288 with 1 Axes>"
      ]
     },
     "metadata": {
      "needs_background": "light"
     },
     "output_type": "display_data"
    }
   ],
   "source": [
    "# plot\n",
    "sns.boxplot(x='ClusterID', y='exports', data=dat5)"
   ]
  },
  {
   "cell_type": "code",
   "execution_count": 61,
   "metadata": {},
   "outputs": [
    {
     "data": {
      "text/plain": [
       "<matplotlib.axes._subplots.AxesSubplot at 0xd4c93d0>"
      ]
     },
     "execution_count": 61,
     "metadata": {},
     "output_type": "execute_result"
    },
    {
     "data": {
      "image/png": "[encoded data removed]",
      "text/plain": [
       "<Figure size 432x288 with 1 Axes>"
      ]
     },
     "metadata": {
      "needs_background": "light"
     },
     "output_type": "display_data"
    }
   ],
   "source": [
    "# plot\n",
    "sns.boxplot(x='ClusterID', y='child_mort', data=dat5)"
   ]
  },
  {
   "cell_type": "code",
   "execution_count": 62,
   "metadata": {},
   "outputs": [
    {
     "data": {
      "text/plain": [
       "<matplotlib.axes._subplots.AxesSubplot at 0xd51aff0>"
      ]
     },
     "execution_count": 62,
     "metadata": {},
     "output_type": "execute_result"
    },
    {
     "data": {
      "image/png": "[encoded data removed]",
      "text/plain": [
       "<Figure size 432x288 with 1 Axes>"
      ]
     },
     "metadata": {
      "needs_background": "light"
     },
     "output_type": "display_data"
    }
   ],
   "source": [
    "# plot\n",
    "sns.boxplot(x='ClusterID', y='health', data=dat5)"
   ]
  },
  {
   "cell_type": "code",
   "execution_count": 63,
   "metadata": {},
   "outputs": [
    {
     "data": {
      "text/plain": [
       "<matplotlib.axes._subplots.AxesSubplot at 0xd569bf0>"
      ]
     },
     "execution_count": 63,
     "metadata": {},
     "output_type": "execute_result"
    },
    {
     "data": {
      "image/png": "[encoded data removed]",
      "text/plain": [
       "<Figure size 432x288 with 1 Axes>"
      ]
     },
     "metadata": {
      "needs_background": "light"
     },
     "output_type": "display_data"
    }
   ],
   "source": [
    "# plot\n",
    "sns.boxplot(x='ClusterID', y='imports', data=dat5)"
   ]
  },
  {
   "cell_type": "code",
   "execution_count": 64,
   "metadata": {},
   "outputs": [
    {
     "data": {
      "text/plain": [
       "<matplotlib.axes._subplots.AxesSubplot at 0xbb86c50>"
      ]
     },
     "execution_count": 64,
     "metadata": {},
     "output_type": "execute_result"
    },
    {
     "data": {
      "image/png": "[encoded data removed]",
      "text/plain": [
       "<Figure size 432x288 with 1 Axes>"
      ]
     },
     "metadata": {
      "needs_background": "light"
     },
     "output_type": "display_data"
    }
   ],
   "source": [
    "# plot\n",
    "sns.boxplot(x='ClusterID', y='income', data=dat5)"
   ]
  },
  {
   "cell_type": "code",
   "execution_count": 65,
   "metadata": {},
   "outputs": [
    {
     "data": {
      "text/plain": [
       "<matplotlib.axes._subplots.AxesSubplot at 0xbd87cd0>"
      ]
     },
     "execution_count": 65,
     "metadata": {},
     "output_type": "execute_result"
    },
    {
     "data": {
      "image/png": "[encoded data removed]",
      "text/plain": [
       "<Figure size 432x288 with 1 Axes>"
      ]
     },
     "metadata": {
      "needs_background": "light"
     },
     "output_type": "display_data"
    }
   ],
   "source": [
    "# plot\n",
    "sns.boxplot(x='ClusterID', y='gdpp', data=dat5)"
   ]
  },
  {
   "cell_type": "code",
   "execution_count": 66,
   "metadata": {},
   "outputs": [
    {
     "data": {
      "text/plain": [
       "7                 Australia\n",
       "8                   Austria\n",
       "15                  Belgium\n",
       "23                   Brunei\n",
       "29                   Canada\n",
       "42                   Cyprus\n",
       "44                  Denmark\n",
       "53                  Finland\n",
       "54                   France\n",
       "58                  Germany\n",
       "68                  Iceland\n",
       "73                  Ireland\n",
       "75                    Italy\n",
       "77                    Japan\n",
       "82                   Kuwait\n",
       "91               Luxembourg\n",
       "98                    Malta\n",
       "110             Netherlands\n",
       "111             New Zealand\n",
       "114                  Norway\n",
       "123                   Qatar\n",
       "133               Singapore\n",
       "144                  Sweden\n",
       "145             Switzerland\n",
       "157    United Arab Emirates\n",
       "158          United Kingdom\n",
       "159           United States\n",
       "Name: country, dtype: object"
      ]
     },
     "execution_count": 66,
     "metadata": {},
     "output_type": "execute_result"
    }
   ],
   "source": [
    "dat5[dat5['ClusterID']==0]['country']"
   ]
  },
  {
   "cell_type": "code",
   "execution_count": 67,
   "metadata": {},
   "outputs": [
    {
     "data": {
      "text/plain": [
       "0                   Afghanistan\n",
       "3                        Angola\n",
       "17                        Benin\n",
       "21                     Botswana\n",
       "25                 Burkina Faso\n",
       "26                      Burundi\n",
       "28                     Cameroon\n",
       "31     Central African Republic\n",
       "32                         Chad\n",
       "36                      Comoros\n",
       "37             Congo, Dem. Rep.\n",
       "38                  Congo, Rep.\n",
       "40                Cote d'Ivoire\n",
       "49            Equatorial Guinea\n",
       "50                      Eritrea\n",
       "55                        Gabon\n",
       "56                       Gambia\n",
       "59                        Ghana\n",
       "63                       Guinea\n",
       "64                Guinea-Bissau\n",
       "66                        Haiti\n",
       "72                         Iraq\n",
       "80                        Kenya\n",
       "81                     Kiribati\n",
       "84                          Lao\n",
       "87                      Lesotho\n",
       "88                      Liberia\n",
       "93                   Madagascar\n",
       "94                       Malawi\n",
       "97                         Mali\n",
       "99                   Mauritania\n",
       "103                    Mongolia\n",
       "106                  Mozambique\n",
       "108                     Namibia\n",
       "112                       Niger\n",
       "113                     Nigeria\n",
       "116                    Pakistan\n",
       "126                      Rwanda\n",
       "129                     Senegal\n",
       "132                Sierra Leone\n",
       "136             Solomon Islands\n",
       "137                South Africa\n",
       "142                       Sudan\n",
       "147                    Tanzania\n",
       "149                 Timor-Leste\n",
       "150                        Togo\n",
       "155                      Uganda\n",
       "165                       Yemen\n",
       "166                      Zambia\n",
       "Name: country, dtype: object"
      ]
     },
     "execution_count": 67,
     "metadata": {},
     "output_type": "execute_result"
    }
   ],
   "source": [
    "dat5[dat5['ClusterID']==1]['country']"
   ]
  },
  {
   "cell_type": "code",
   "execution_count": 68,
   "metadata": {},
   "outputs": [
    {
     "data": {
      "text/plain": [
       "1                  Albania\n",
       "2                  Algeria\n",
       "4      Antigua and Barbuda\n",
       "5                Argentina\n",
       "6                  Armenia\n",
       "              ...         \n",
       "160                Uruguay\n",
       "161             Uzbekistan\n",
       "162                Vanuatu\n",
       "163              Venezuela\n",
       "164                Vietnam\n",
       "Name: country, Length: 91, dtype: object"
      ]
     },
     "execution_count": 68,
     "metadata": {},
     "output_type": "execute_result"
    }
   ],
   "source": [
    "dat5[dat5['ClusterID']==2]['country']"
   ]
  },
  {
   "cell_type": "code",
   "execution_count": 69,
   "metadata": {},
   "outputs": [
    {
     "data": {
      "image/png": "[encoded data removed]",
      "text/plain": [
       "<Figure size 1440x720 with 1 Axes>"
      ]
     },
     "metadata": {
      "needs_background": "light"
     },
     "output_type": "display_data"
    }
   ],
   "source": [
    "#Analyzing the clusters along with counties \n",
    "%matplotlib inline\n",
    "fig = plt.figure(figsize = (20,10))\n",
    "plt.scatter(dat5.PC1, dat5.PC2, c = dat5.ClusterID.map({0:'green',1:'red',2:'blue'}))\n",
    "plt.xlabel('Principal Component 1')\n",
    "plt.ylabel('Principal Component 2')\n",
    "for i, txt in enumerate(dat5.country):\n",
    "    plt.annotate(txt, (dat5.PC1[i],dat5.PC2[i]))\n",
    "plt.tight_layout()\n",
    "plt.tight_layout()\n",
    "plt.show()"
   ]
  },
  {
   "cell_type": "code",
   "execution_count": 70,
   "metadata": {},
   "outputs": [],
   "source": [
    "clu_gdpp = pd.DataFrame(dat5.groupby([\"ClusterID\"]).gdpp.median())\n",
    "clu_child_mort=pd.DataFrame(dat5.groupby([\"ClusterID\"]).child_mort.median())\n",
    "clu_income =pd.DataFrame(dat5.groupby([\"ClusterID\"]).income.median())\n"
   ]
  },
  {
   "cell_type": "code",
   "execution_count": 71,
   "metadata": {},
   "outputs": [
    {
     "data": {
      "text/html": [
       "<div>\n",
       "<style scoped>\n",
       "    .dataframe tbody tr th:only-of-type {\n",
       "        vertical-align: middle;\n",
       "    }\n",
       "\n",
       "    .dataframe tbody tr th {\n",
       "        vertical-align: top;\n",
       "    }\n",
       "\n",
       "    .dataframe thead th {\n",
       "        text-align: right;\n",
       "    }\n",
       "</style>\n",
       "<table border=\"1\" class=\"dataframe\">\n",
       "  <thead>\n",
       "    <tr style=\"text-align: right;\">\n",
       "      <th></th>\n",
       "      <th>ClusterID</th>\n",
       "      <th>GDPP</th>\n",
       "      <th>child_mort</th>\n",
       "      <th>income</th>\n",
       "    </tr>\n",
       "  </thead>\n",
       "  <tbody>\n",
       "    <tr>\n",
       "      <th>0</th>\n",
       "      <td>0</td>\n",
       "      <td>46200</td>\n",
       "      <td>4.3</td>\n",
       "      <td>42900</td>\n",
       "    </tr>\n",
       "    <tr>\n",
       "      <th>1</th>\n",
       "      <td>1</td>\n",
       "      <td>967</td>\n",
       "      <td>89.3</td>\n",
       "      <td>1870</td>\n",
       "    </tr>\n",
       "    <tr>\n",
       "      <th>2</th>\n",
       "      <td>2</td>\n",
       "      <td>5840</td>\n",
       "      <td>17.1</td>\n",
       "      <td>11400</td>\n",
       "    </tr>\n",
       "  </tbody>\n",
       "</table>\n",
       "</div>"
      ],
      "text/plain": [
       "   ClusterID   GDPP  child_mort  income\n",
       "0          0  46200         4.3   42900\n",
       "1          1    967        89.3    1870\n",
       "2          2   5840        17.1   11400"
      ]
     },
     "execution_count": 71,
     "metadata": {},
     "output_type": "execute_result"
    }
   ],
   "source": [
    "df = pd.concat([pd.Series([0,1,2]),clu_gdpp,clu_child_mort,clu_income], axis=1)\n",
    "df.columns = [\"ClusterID\",\"GDPP\",\"child_mort\",\"income\"]\n",
    "df"
   ]
  },
  {
   "cell_type": "code",
   "execution_count": 72,
   "metadata": {},
   "outputs": [
    {
     "data": {
      "text/plain": [
       "<matplotlib.axes._subplots.AxesSubplot at 0xbde53b0>"
      ]
     },
     "execution_count": 72,
     "metadata": {},
     "output_type": "execute_result"
    },
    {
     "data": {
      "image/png": "[encoded data removed]",
      "text/plain": [
       "<Figure size 432x288 with 1 Axes>"
      ]
     },
     "metadata": {
      "needs_background": "light"
     },
     "output_type": "display_data"
    }
   ],
   "source": [
    "# plot\n",
    "sns.boxplot(x='ClusterID', y='gdpp', data=dat5)"
   ]
  },
  {
   "cell_type": "code",
   "execution_count": 73,
   "metadata": {},
   "outputs": [
    {
     "data": {
      "text/plain": [
       "<matplotlib.axes._subplots.AxesSubplot at 0xc0bfa30>"
      ]
     },
     "execution_count": 73,
     "metadata": {},
     "output_type": "execute_result"
    },
    {
     "data": {
      "image/png": "[encoded data removed]",
      "text/plain": [
       "<Figure size 432x288 with 1 Axes>"
      ]
     },
     "metadata": {
      "needs_background": "light"
     },
     "output_type": "display_data"
    }
   ],
   "source": [
    "# plot\n",
    "sns.boxplot(x='ClusterID', y='income', data=dat5)"
   ]
  },
  {
   "cell_type": "code",
   "execution_count": 74,
   "metadata": {},
   "outputs": [
    {
     "data": {
      "text/plain": [
       "<matplotlib.axes._subplots.AxesSubplot at 0xc082bd0>"
      ]
     },
     "execution_count": 74,
     "metadata": {},
     "output_type": "execute_result"
    },
    {
     "data": {
      "image/png": "[encoded data removed]",
      "text/plain": [
       "<Figure size 432x288 with 1 Axes>"
      ]
     },
     "metadata": {
      "needs_background": "light"
     },
     "output_type": "display_data"
    }
   ],
   "source": [
    "# plot\n",
    "sns.boxplot(x='ClusterID', y='child_mort', data=dat5)"
   ]
  },
  {
   "cell_type": "code",
   "execution_count": 75,
   "metadata": {},
   "outputs": [],
   "source": [
    "#Let's use the concept of binning\n",
    "fin=dat5[dat5['gdpp']<=967]\n",
    "fin=fin[fin['child_mort']<= 89.3]\n",
    "fin=fin[fin['income']<= 1870]"
   ]
  },
  {
   "cell_type": "code",
   "execution_count": 76,
   "metadata": {},
   "outputs": [
    {
     "data": {
      "text/html": [
       "<div>\n",
       "<style scoped>\n",
       "    .dataframe tbody tr th:only-of-type {\n",
       "        vertical-align: middle;\n",
       "    }\n",
       "\n",
       "    .dataframe tbody tr th {\n",
       "        vertical-align: top;\n",
       "    }\n",
       "\n",
       "    .dataframe thead th {\n",
       "        text-align: right;\n",
       "    }\n",
       "</style>\n",
       "<table border=\"1\" class=\"dataframe\">\n",
       "  <thead>\n",
       "    <tr style=\"text-align: right;\">\n",
       "      <th></th>\n",
       "      <th>country</th>\n",
       "      <th>child_mort</th>\n",
       "      <th>exports</th>\n",
       "      <th>health</th>\n",
       "      <th>imports</th>\n",
       "      <th>income</th>\n",
       "      <th>inflation</th>\n",
       "      <th>life_expec</th>\n",
       "      <th>total_fer</th>\n",
       "      <th>gdpp</th>\n",
       "      <th>PC1</th>\n",
       "      <th>PC2</th>\n",
       "      <th>ClusterID</th>\n",
       "    </tr>\n",
       "  </thead>\n",
       "  <tbody>\n",
       "    <tr>\n",
       "      <th>36</th>\n",
       "      <td>Comoros</td>\n",
       "      <td>88.2</td>\n",
       "      <td>126.8850</td>\n",
       "      <td>34.6819</td>\n",
       "      <td>397.573</td>\n",
       "      <td>1410</td>\n",
       "      <td>3.87</td>\n",
       "      <td>65.9</td>\n",
       "      <td>4.75</td>\n",
       "      <td>769</td>\n",
       "      <td>-1.944088</td>\n",
       "      <td>0.604041</td>\n",
       "      <td>1</td>\n",
       "    </tr>\n",
       "    <tr>\n",
       "      <th>50</th>\n",
       "      <td>Eritrea</td>\n",
       "      <td>55.2</td>\n",
       "      <td>23.0878</td>\n",
       "      <td>12.8212</td>\n",
       "      <td>112.306</td>\n",
       "      <td>1420</td>\n",
       "      <td>11.60</td>\n",
       "      <td>61.7</td>\n",
       "      <td>4.61</td>\n",
       "      <td>482</td>\n",
       "      <td>-1.943153</td>\n",
       "      <td>0.490721</td>\n",
       "      <td>1</td>\n",
       "    </tr>\n",
       "    <tr>\n",
       "      <th>56</th>\n",
       "      <td>Gambia</td>\n",
       "      <td>80.3</td>\n",
       "      <td>133.7560</td>\n",
       "      <td>31.9778</td>\n",
       "      <td>239.974</td>\n",
       "      <td>1660</td>\n",
       "      <td>4.30</td>\n",
       "      <td>65.5</td>\n",
       "      <td>5.71</td>\n",
       "      <td>562</td>\n",
       "      <td>-2.099348</td>\n",
       "      <td>0.823289</td>\n",
       "      <td>1</td>\n",
       "    </tr>\n",
       "    <tr>\n",
       "      <th>88</th>\n",
       "      <td>Liberia</td>\n",
       "      <td>89.3</td>\n",
       "      <td>62.4570</td>\n",
       "      <td>38.5860</td>\n",
       "      <td>302.802</td>\n",
       "      <td>700</td>\n",
       "      <td>5.47</td>\n",
       "      <td>60.8</td>\n",
       "      <td>5.02</td>\n",
       "      <td>327</td>\n",
       "      <td>-2.252015</td>\n",
       "      <td>0.931472</td>\n",
       "      <td>1</td>\n",
       "    </tr>\n",
       "    <tr>\n",
       "      <th>93</th>\n",
       "      <td>Madagascar</td>\n",
       "      <td>62.2</td>\n",
       "      <td>103.2500</td>\n",
       "      <td>15.5701</td>\n",
       "      <td>177.590</td>\n",
       "      <td>1390</td>\n",
       "      <td>8.79</td>\n",
       "      <td>60.8</td>\n",
       "      <td>4.60</td>\n",
       "      <td>413</td>\n",
       "      <td>-1.991389</td>\n",
       "      <td>0.552216</td>\n",
       "      <td>1</td>\n",
       "    </tr>\n",
       "    <tr>\n",
       "      <th>126</th>\n",
       "      <td>Rwanda</td>\n",
       "      <td>63.6</td>\n",
       "      <td>67.5600</td>\n",
       "      <td>59.1150</td>\n",
       "      <td>168.900</td>\n",
       "      <td>1350</td>\n",
       "      <td>2.61</td>\n",
       "      <td>64.6</td>\n",
       "      <td>4.51</td>\n",
       "      <td>563</td>\n",
       "      <td>-1.743530</td>\n",
       "      <td>0.258503</td>\n",
       "      <td>1</td>\n",
       "    </tr>\n",
       "    <tr>\n",
       "      <th>155</th>\n",
       "      <td>Uganda</td>\n",
       "      <td>81.0</td>\n",
       "      <td>101.7450</td>\n",
       "      <td>53.6095</td>\n",
       "      <td>170.170</td>\n",
       "      <td>1540</td>\n",
       "      <td>10.60</td>\n",
       "      <td>56.8</td>\n",
       "      <td>6.15</td>\n",
       "      <td>595</td>\n",
       "      <td>-2.614207</td>\n",
       "      <td>1.458074</td>\n",
       "      <td>1</td>\n",
       "    </tr>\n",
       "  </tbody>\n",
       "</table>\n",
       "</div>"
      ],
      "text/plain": [
       "        country  child_mort   exports   health  imports  income  inflation  \\\n",
       "36      Comoros        88.2  126.8850  34.6819  397.573    1410       3.87   \n",
       "50      Eritrea        55.2   23.0878  12.8212  112.306    1420      11.60   \n",
       "56       Gambia        80.3  133.7560  31.9778  239.974    1660       4.30   \n",
       "88      Liberia        89.3   62.4570  38.5860  302.802     700       5.47   \n",
       "93   Madagascar        62.2  103.2500  15.5701  177.590    1390       8.79   \n",
       "126      Rwanda        63.6   67.5600  59.1150  168.900    1350       2.61   \n",
       "155      Uganda        81.0  101.7450  53.6095  170.170    1540      10.60   \n",
       "\n",
       "     life_expec  total_fer  gdpp       PC1       PC2  ClusterID  \n",
       "36         65.9       4.75   769 -1.944088  0.604041          1  \n",
       "50         61.7       4.61   482 -1.943153  0.490721          1  \n",
       "56         65.5       5.71   562 -2.099348  0.823289          1  \n",
       "88         60.8       5.02   327 -2.252015  0.931472          1  \n",
       "93         60.8       4.60   413 -1.991389  0.552216          1  \n",
       "126        64.6       4.51   563 -1.743530  0.258503          1  \n",
       "155        56.8       6.15   595 -2.614207  1.458074          1  "
      ]
     },
     "execution_count": 76,
     "metadata": {},
     "output_type": "execute_result"
    }
   ],
   "source": [
    "fin"
   ]
  },
  {
   "cell_type": "code",
   "execution_count": 77,
   "metadata": {},
   "outputs": [
    {
     "data": {
      "text/plain": [
       "36        Comoros\n",
       "50        Eritrea\n",
       "56         Gambia\n",
       "88        Liberia\n",
       "93     Madagascar\n",
       "126        Rwanda\n",
       "155        Uganda\n",
       "Name: country, dtype: object"
      ]
     },
     "execution_count": 77,
     "metadata": {},
     "output_type": "execute_result"
    }
   ],
   "source": [
    "fin.country"
   ]
  },
  {
   "cell_type": "code",
   "execution_count": 78,
   "metadata": {},
   "outputs": [],
   "source": [
    "l1=dat5['country'].tolist()"
   ]
  },
  {
   "cell_type": "code",
   "execution_count": 79,
   "metadata": {},
   "outputs": [
    {
     "data": {
      "text/plain": [
       "['Afghanistan',\n",
       " 'Albania',\n",
       " 'Algeria',\n",
       " 'Angola',\n",
       " 'Antigua and Barbuda',\n",
       " 'Argentina',\n",
       " 'Armenia',\n",
       " 'Australia',\n",
       " 'Austria',\n",
       " 'Azerbaijan',\n",
       " 'Bahamas',\n",
       " 'Bahrain',\n",
       " 'Bangladesh',\n",
       " 'Barbados',\n",
       " 'Belarus',\n",
       " 'Belgium',\n",
       " 'Belize',\n",
       " 'Benin',\n",
       " 'Bhutan',\n",
       " 'Bolivia',\n",
       " 'Bosnia and Herzegovina',\n",
       " 'Botswana',\n",
       " 'Brazil',\n",
       " 'Brunei',\n",
       " 'Bulgaria',\n",
       " 'Burkina Faso',\n",
       " 'Burundi',\n",
       " 'Cambodia',\n",
       " 'Cameroon',\n",
       " 'Canada',\n",
       " 'Cape Verde',\n",
       " 'Central African Republic',\n",
       " 'Chad',\n",
       " 'Chile',\n",
       " 'China',\n",
       " 'Colombia',\n",
       " 'Comoros',\n",
       " 'Congo, Dem. Rep.',\n",
       " 'Congo, Rep.',\n",
       " 'Costa Rica',\n",
       " \"Cote d'Ivoire\",\n",
       " 'Croatia',\n",
       " 'Cyprus',\n",
       " 'Czech Republic',\n",
       " 'Denmark',\n",
       " 'Dominican Republic',\n",
       " 'Ecuador',\n",
       " 'Egypt',\n",
       " 'El Salvador',\n",
       " 'Equatorial Guinea',\n",
       " 'Eritrea',\n",
       " 'Estonia',\n",
       " 'Fiji',\n",
       " 'Finland',\n",
       " 'France',\n",
       " 'Gabon',\n",
       " 'Gambia',\n",
       " 'Georgia',\n",
       " 'Germany',\n",
       " 'Ghana',\n",
       " 'Greece',\n",
       " 'Grenada',\n",
       " 'Guatemala',\n",
       " 'Guinea',\n",
       " 'Guinea-Bissau',\n",
       " 'Guyana',\n",
       " 'Haiti',\n",
       " 'Hungary',\n",
       " 'Iceland',\n",
       " 'India',\n",
       " 'Indonesia',\n",
       " 'Iran',\n",
       " 'Iraq',\n",
       " 'Ireland',\n",
       " 'Israel',\n",
       " 'Italy',\n",
       " 'Jamaica',\n",
       " 'Japan',\n",
       " 'Jordan',\n",
       " 'Kazakhstan',\n",
       " 'Kenya',\n",
       " 'Kiribati',\n",
       " 'Kuwait',\n",
       " 'Kyrgyz Republic',\n",
       " 'Lao',\n",
       " 'Latvia',\n",
       " 'Lebanon',\n",
       " 'Lesotho',\n",
       " 'Liberia',\n",
       " 'Libya',\n",
       " 'Lithuania',\n",
       " 'Luxembourg',\n",
       " 'Macedonia, FYR',\n",
       " 'Madagascar',\n",
       " 'Malawi',\n",
       " 'Malaysia',\n",
       " 'Maldives',\n",
       " 'Mali',\n",
       " 'Malta',\n",
       " 'Mauritania',\n",
       " 'Mauritius',\n",
       " 'Micronesia, Fed. Sts.',\n",
       " 'Moldova',\n",
       " 'Mongolia',\n",
       " 'Montenegro',\n",
       " 'Morocco',\n",
       " 'Mozambique',\n",
       " 'Myanmar',\n",
       " 'Namibia',\n",
       " 'Nepal',\n",
       " 'Netherlands',\n",
       " 'New Zealand',\n",
       " 'Niger',\n",
       " 'Nigeria',\n",
       " 'Norway',\n",
       " 'Oman',\n",
       " 'Pakistan',\n",
       " 'Panama',\n",
       " 'Paraguay',\n",
       " 'Peru',\n",
       " 'Philippines',\n",
       " 'Poland',\n",
       " 'Portugal',\n",
       " 'Qatar',\n",
       " 'Romania',\n",
       " 'Russia',\n",
       " 'Rwanda',\n",
       " 'Samoa',\n",
       " 'Saudi Arabia',\n",
       " 'Senegal',\n",
       " 'Serbia',\n",
       " 'Seychelles',\n",
       " 'Sierra Leone',\n",
       " 'Singapore',\n",
       " 'Slovak Republic',\n",
       " 'Slovenia',\n",
       " 'Solomon Islands',\n",
       " 'South Africa',\n",
       " 'South Korea',\n",
       " 'Spain',\n",
       " 'Sri Lanka',\n",
       " 'St. Vincent and the Grenadines',\n",
       " 'Sudan',\n",
       " 'Suriname',\n",
       " 'Sweden',\n",
       " 'Switzerland',\n",
       " 'Tajikistan',\n",
       " 'Tanzania',\n",
       " 'Thailand',\n",
       " 'Timor-Leste',\n",
       " 'Togo',\n",
       " 'Tonga',\n",
       " 'Tunisia',\n",
       " 'Turkey',\n",
       " 'Turkmenistan',\n",
       " 'Uganda',\n",
       " 'Ukraine',\n",
       " 'United Arab Emirates',\n",
       " 'United Kingdom',\n",
       " 'United States',\n",
       " 'Uruguay',\n",
       " 'Uzbekistan',\n",
       " 'Vanuatu',\n",
       " 'Venezuela',\n",
       " 'Vietnam',\n",
       " 'Yemen',\n",
       " 'Zambia']"
      ]
     },
     "execution_count": 79,
     "metadata": {},
     "output_type": "execute_result"
    }
   ],
   "source": [
    "l1"
   ]
  },
  {
   "cell_type": "code",
   "execution_count": null,
   "metadata": {},
   "outputs": [],
   "source": []
  },
  {
   "cell_type": "code",
   "execution_count": null,
   "metadata": {},
   "outputs": [],
   "source": []
  }
 ],
 "metadata": {
  "kernelspec": {
   "display_name": "Python 3",
   "language": "python",
   "name": "python3"
  },
  "language_info": {
   "codemirror_mode": {
    "name": "ipython",
    "version": 3
   },
   "file_extension": ".py",
   "mimetype": "text/x-python",
   "name": "python",
   "nbconvert_exporter": "python",
   "pygments_lexer": "ipython3",
   "version": "3.7.4"
  }
 },
 "nbformat": 4,
 "nbformat_minor": 2
}
